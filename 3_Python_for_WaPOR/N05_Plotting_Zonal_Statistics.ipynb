{
  "cells": [
    {
      "cell_type": "markdown",
      "source": [
        "#**Using Python libraries for Handling WaPOR Data**\n",
        "#Notebook 5: Calculating and visualising zonal statistics for multiple seasons\n",
        "In this Notebook we will show you how to run a script developed for the WaPOR project that calculates zonal statistics for multiple seasons. And to visualise the results (TBP over AETI).   \n",
        "The steps are:\n",
        "1. Install and load necessary Python Libraries to manage raster files\n",
        "2. Create DataFrame of zonal statistics of AETI and TBP for each farm and each season\n",
        "3. Merge DataFrames and visualise scatterplots of AETI and TBP.\n",
        "4. Exercises (needed for MOOC quiz)\n",
        "\n",
        "\n",
        "**Data needed**:\n",
        "\n",
        "For the exercises of the [MOOC Python for geospatial analyses using WaPOR data](https://ocw.un-ihe.org/course/view.php?id=272) you can use the following data:\n",
        "\n",
        "* **Area**: Farm boundaries in Wad Helal irrigation block. For this exercise you need a .shp file of the WH_fields.geojson used in the previous notebook.\n",
        "\n",
        "* **TIFF files**: seasonal TIFF files of TBP and AETI saved after running [Notebook 3 : Temporal data aggregation](https://github.com/wateraccounting/WaPORMOOC/blob/main/3_Python_for_WaPOR/N02_Temporal_Aggregation.ipynb)\n",
        "\n",
        "Save these files on google drive in a folder `Python_mooc` in the main drive."
      ],
      "metadata": {
        "id": "wUoXvdThqDmZ"
      }
    },
    {
      "cell_type": "markdown",
      "metadata": {
        "id": "dOHkmq6KzN90"
      },
      "source": [
        "## Step 1 - Import modules/libraries"
      ]
    },
    {
      "cell_type": "code",
      "source": [
        "from google.colab import drive\n",
        "drive.mount('/content/drive')"
      ],
      "metadata": {
        "id": "EbHp6uWA3TpL"
      },
      "execution_count": null,
      "outputs": []
    },
    {
      "cell_type": "code",
      "source": [
        "!pip install rioxarray --quiet\n",
        "!pip install rasterstats"
      ],
      "metadata": {
        "id": "WFai3WdwQ7i3"
      },
      "execution_count": null,
      "outputs": []
    },
    {
      "cell_type": "code",
      "execution_count": 3,
      "metadata": {
        "id": "dl6xEg_MzN90"
      },
      "outputs": [],
      "source": [
        "import os                                 # a module for interacting with the operating system\n",
        "import sys\n",
        "import glob                               # used to retrieve files/pathnames matching a specified pattern\n",
        "import re                                 # re sub() module can be used to replace substring\n",
        "import rioxarray as rio\n",
        "import pandas as pd                       # to store and manipulate tabular data in rows of observations and columns of variables\n",
        "import numpy as np                        # stands for 'Numerical Python, is a python library used for scientific computing with arrays\n",
        "import calendar\n",
        "import datetime\n",
        "from matplotlib import pyplot as plt      # is a plotting library used for 2D graphics in python\n",
        "from osgeo import gdal\n",
        "from osgeo import osr\n",
        "from sklearn.metrics import mean_squared_error\n",
        "from sklearn.metrics import mean_absolute_error\n",
        "from math import sqrt\n",
        "import matplotlib.pyplot as plt\n",
        "import geopandas as gpd\n",
        "from rasterstats import zonal_stats"
      ]
    },
    {
      "cell_type": "code",
      "source": [
        "# define seasons\n",
        "season_periods = {\n",
        "    'season1': {'SOS': '2020-10-01', 'EOS': '2021-04-30'},\n",
        "    'season2': {'SOS': '2021-10-01', 'EOS': '2022-04-30'},\n",
        "    'season3': {'SOS': '2022-10-01', 'EOS': '2023-04-30'}\n",
        "}"
      ],
      "metadata": {
        "id": "sbRV03JwYJJG"
      },
      "execution_count": 4,
      "outputs": []
    },
    {
      "cell_type": "markdown",
      "source": [
        "# Step 2 - Calculate zonal Statistics"
      ],
      "metadata": {
        "id": "j5vJ7OgoB0vL"
      }
    },
    {
      "cell_type": "markdown",
      "source": [
        "The following scripts load the TBP seasonal data you saved from the Notebook 03 exercises (first Code cell) and calculates the zonal statistics for each farm (second Code cell). Check if the .csv file is created in your folder. Adapt the first Code cell to calculate zonal statistics for seasonal AETI by running both scripts.\n",
        "\n",
        "**NOTE**: The file for the farms in this script is a .shp file. Create a .shp file from the geojson file in QGIS first. Dont forget to upload all dependencies in the same folder!"
      ],
      "metadata": {
        "id": "OxayFRmHs4Ut"
      }
    },
    {
      "cell_type": "code",
      "source": [
        "folder_path = '/content/drive/MyDrive/Python_mooc/Data/TBP_season'                # path to the folder with raster files\n",
        "shapefile_path = \"/content/drive/MyDrive/Python_mooc/Data/WH_fields.shp\"       # path to shapefile\n",
        "output_path = '/content/drive/MyDrive/Python_mooc/Data'                            # path to the output folder\n",
        "output_file = 'TBP_per_field.csv'                                              # name of the output file"
      ],
      "metadata": {
        "id": "UKQr8IVPI2M4"
      },
      "execution_count": 13,
      "outputs": []
    },
    {
      "cell_type": "code",
      "source": [
        "def extract_identifier_from_filename(filename):\n",
        "    parts = filename.split('_')  # Split by underscore\n",
        "    date_part = parts[0]  # Combine the date parts\n",
        "    return date_part.rstrip('.tif')\n",
        "\n",
        "# Load shapefile\n",
        "gdf = gpd.read_file(shapefile_path)\n",
        "\n",
        "# Check and remove any rows with None geometries\n",
        "gdf = gdf.dropna(subset=['geometry'])\n",
        "if gdf['geometry'].isnull().any():\n",
        "    print(\"Warning: Still found None geometries after filtering.\")\n",
        "else:\n",
        "    print(\"All None geometries have been successfully filtered out.\")\n",
        "\n",
        "results_gdf = gdf.copy()\n",
        "\n",
        "# Find all TIFF files in the folder\n",
        "tif_files = glob.glob(os.path.join(folder_path, \"*.tif\"))\n",
        "print(f\"Found {len(tif_files)} TIFF files to process.\")\n",
        "\n",
        "# Process each TIFF file\n",
        "for tif_file in tif_files:\n",
        "    try:\n",
        "        # Extract identifier from filename\n",
        "        identifier = extract_identifier_from_filename(os.path.basename(tif_file))\n",
        "\n",
        "        # Calculate zonal statistics for mean\n",
        "        stats = zonal_stats(gdf, tif_file, stats=\"mean\")\n",
        "\n",
        "        # Extract mean values and assign to new column in DataFrame\n",
        "        means = [stat['mean'] if stat else None for stat in stats]\n",
        "        results_gdf[identifier] = means\n",
        "\n",
        "    except Exception as e:\n",
        "        print(f\"Failed to process {tif_file}: {e}\")\n",
        "        continue\n",
        "\n",
        "# Ensure the output directory exists\n",
        "if not os.path.exists(output_path):\n",
        "    os.makedirs(output_path)\n",
        "\n",
        "# Save the results to an Excel file, excluding the geometry column for easier viewing\n",
        "results_gdf.drop(columns=['geometry']).to_csv(os.path.join(output_path, output_file), index=False)\n",
        "print(f\"Mean zonal statistics by date/identifier saved to {os.path.join(output_path, output_file)}\")\n"
      ],
      "metadata": {
        "id": "QaBo_svaWlgV"
      },
      "execution_count": null,
      "outputs": []
    },
    {
      "cell_type": "markdown",
      "source": [
        "<div class=\"alert alert-success\">\n",
        "\n",
        "**Exercise 1**:\n",
        "\n",
        "View the data frame (what are the attributes of these files?)\n",
        "\n",
        "Extract all values for farms within the FakiMusa6 tertiary unit. What is the seasonal AETI or TBP of farm id 2212 for the season 2? Round AETI to the nearest integer and TBP with one decimal.\n",
        "\n",
        "Note down the value, you need it for the MOOC quiz!\n",
        "</div>\n"
      ],
      "metadata": {
        "id": "Z_ssEg7SvD2E"
      }
    },
    {
      "cell_type": "code",
      "source": [
        "# use pandas to read .csv file\n",
        "\n",
        "# write code to extract data\n",
        "\n"
      ],
      "metadata": {
        "id": "wJQo-JjJvDM6"
      },
      "execution_count": null,
      "outputs": []
    },
    {
      "cell_type": "markdown",
      "source": [
        "# Step 3 - Plot results"
      ],
      "metadata": {
        "id": "hop8xGimb5FS"
      }
    },
    {
      "cell_type": "markdown",
      "source": [
        "We now want to create a scatter plot and therefore we have to merge the two files, which is done with the script below."
      ],
      "metadata": {
        "id": "hWDMoxUhuiOi"
      }
    },
    {
      "cell_type": "code",
      "source": [
        "aeti_data = pd.read_csv('/content/drive/MyDrive/Python_mooc/Data/AETI_per_field.csv')     ## path to AETI excel file\n",
        "tbp_data = pd.read_csv('/content/drive/MyDrive/Python_mooc/Data/TBP_per_field.csv')     ## path to TBP excel file\n",
        "merged_data = pd.merge(aeti_data, tbp_data, on='id')\n"
      ],
      "metadata": {
        "id": "AvhrVovtjWSt"
      },
      "execution_count": 29,
      "outputs": []
    },
    {
      "cell_type": "markdown",
      "source": [
        "<div class=\"alert alert-success\">\n",
        "\n",
        "**Exercise 2**:\n",
        "\n",
        "How many attributes does this new file have?\n",
        "\n",
        "</div>\n"
      ],
      "metadata": {
        "id": "IMhegB07w7hA"
      }
    },
    {
      "cell_type": "code",
      "source": [
        "# list attributes\n"
      ],
      "metadata": {
        "id": "wtaK5Awgw65A"
      },
      "execution_count": null,
      "outputs": []
    },
    {
      "cell_type": "markdown",
      "source": [
        "The following script creates one scatterplot with the AETI in the x-axis and TBP on the y-axis with each season presented using different colors."
      ],
      "metadata": {
        "id": "mTyhMUmh1MXs"
      }
    },
    {
      "cell_type": "code",
      "source": [
        "# Plotting the scatter plot all in one figure\n",
        "plt.figure(figsize=(10, 6))\n",
        "plt.scatter(merged_data['AETIseason1'], merged_data['TBPseason1'], alpha=0.6, edgecolors='w', color='red', label='Season1')\n",
        "plt.scatter(merged_data['AETIseason2'], merged_data['TBPseason2'], alpha=0.6, edgecolors='w', color='green', label='Season2')\n",
        "plt.scatter(merged_data['AETIseason3'], merged_data['TBPseason3'], alpha=0.6, edgecolors='w', color='blue', label='Season3')\n",
        "plt.legend()\n",
        "plt.title('Scatter Plot of AETI vs. TBP')\n",
        "plt.xlabel('AETI (mm/season)')\n",
        "plt.ylabel('Biomass Production (ton/ha/season)')\n",
        "plt.grid(True)\n",
        "plt.show()\n"
      ],
      "metadata": {
        "id": "-c-vVzrdj447"
      },
      "execution_count": null,
      "outputs": []
    },
    {
      "cell_type": "markdown",
      "source": [
        "If you want to create separate scatterplots for each season you have to create a `for` loop, as you can see below.\n",
        "\n"
      ],
      "metadata": {
        "id": "63_ZZ9uO1Wgt"
      }
    },
    {
      "cell_type": "code",
      "source": [
        "# Plotting the scatter plot in separate figures\n",
        "fig,axs = plt.subplots(nrows=1,ncols=3,figsize=(20, 6))\n",
        "for i,season in enumerate(season_periods):\n",
        "  axs[i].scatter(merged_data[f'AETI{season}'], merged_data[f'TBP{season}'], #name columns\n",
        "                 alpha=0.6, edgecolors='w', color='blue') #\n",
        "  axs[i].set_title(season)\n",
        "\n",
        "  axs[i].set_xlabel('AETI (mm/season)')\n",
        "  axs[i].set_ylabel('Biomass (ton/ha/season)')\n",
        "  axs[i].grid(True)\n",
        "plt.suptitle('Scatter Plot of AETI vs. TBP')\n",
        "plt.savefig('/content/drive/MyDrive/Python_mooc/Data/AETIvsNPP.png') # saves the combined graphs\n",
        "plt.show()\n"
      ],
      "metadata": {
        "id": "ndfZSj1y9rFu"
      },
      "execution_count": null,
      "outputs": []
    },
    {
      "cell_type": "markdown",
      "source": [
        "We also added a line to save the graph, can you find it? If you want to save each graph seperately, how would you do this? Share your graph(s) in the discussion forum. Add your name so we know you have mastered the materials."
      ],
      "metadata": {
        "id": "Z17RA7p60afi"
      }
    },
    {
      "cell_type": "markdown",
      "source": [
        "<div class=\"alert alert-success\">\n",
        "\n",
        "\n",
        "**Exercise 3**:\n",
        "\n",
        "Season 3 has less scattered values compared to the other two seasons. What could be the reason for this?\n",
        "\n",
        "1. The weather was better in season 3 compared to the other seasons\n",
        "2. The crop type was consistent in season 3 (all fields were cropped with Wheat)\n",
        "3. Irrigation water application was more uniform in season 3\n",
        "4. Cropping season in season 1 and 2 was not well defined\n",
        "\n",
        "Note down your answer, you need it in the MOOC quiz\n",
        "</div>"
      ],
      "metadata": {
        "id": "8USGsgl3xaTr"
      }
    },
    {
      "cell_type": "markdown",
      "source": [
        "<div class=\"alert alert-success\">\n",
        "\n",
        "**BONUS**: Add columns of seasonal water productivity to the DataFrame.\n",
        "\n",
        "</div>"
      ],
      "metadata": {
        "id": "io6Zvcgd4NPf"
      }
    },
    {
      "cell_type": "markdown",
      "source": [
        "<div class=\"alert alert-success\">\n",
        "\n",
        "**BONUS**: Can you make a scatter plot for season 3 with each tertiary unit visualised with different colors? Share your result with us in the discussion forum.\n",
        "\n",
        "</div>"
      ],
      "metadata": {
        "id": "PsGY3lc9x8W1"
      }
    }
  ],
  "metadata": {
    "kernelspec": {
      "display_name": "Python 3 (ipykernel)",
      "language": "python",
      "name": "python3"
    },
    "language_info": {
      "codemirror_mode": {
        "name": "ipython",
        "version": 3
      },
      "file_extension": ".py",
      "mimetype": "text/x-python",
      "name": "python",
      "nbconvert_exporter": "python",
      "pygments_lexer": "ipython3",
      "version": "3.10.8"
    },
    "colab": {
      "provenance": []
    }
  },
  "nbformat": 4,
  "nbformat_minor": 0
}