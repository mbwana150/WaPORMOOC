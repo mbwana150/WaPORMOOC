{
  "cells": [
    {
      "cell_type": "markdown",
      "metadata": {
        "id": "t_pk4_qHJekP"
      },
      "source": [
        "#**Using Python libraries for Handling WaPOR Data**\n",
        "\n",
        "[![](https://raw.githubusercontent.com//wateraccounting/WaPORMOOC/main/images/colab-badge.png)](https://colab.research.google.com/github/wateraccounting/WaPORMOOC/blob/main/3_Python_for_WaPOR/N04_Seasonal_Aggregation_and_WP.ipynb?target=\"_blank\")\n",
        "\n",
        "#Notebook 4 : Seasonal data aggregation and Water Productivity estimation\n",
        "\n",
        "In this Notebook we use a script that was developed for the WaPOR project to calculate temporal aggregation of AETI and NPP and seasonal Water Productivity for multiple seasons. Try to understand different parts of the codes using the knowledge you gained in the previous Notebooks.\n",
        "\n",
        "We will be following these steps:\n",
        "\n",
        "0. Import Python Libraries\n",
        "1. Import WaPOR data\n",
        "2. Define function for temporal aggregation\n",
        "3. Calculate seasonal AETI and NPP\n",
        "4. Calculate seasonal WP\n",
        "\n",
        "**Data needed:**\n",
        "\n",
        "For the exercises of the [MOOC Python for geospatial analyses using WaPOR data](https://ocw.un-ihe.org/course/view.php?id=272) you can use the following data which **you need to download** using the [Download_WaPORv3_Data Notebook](https://github.com/wateraccounting/WaPORMOOC/blob/main/1_WaPOR_download_colab/Download_WaPORv3_Data.ipynb) before using this notebook. We will be downloading data for three seasons.\n",
        "\n",
        "1. **Area**: Wad Helal in the Gezira Irrigation Scheme (you can find the \\\"Wad_Helal.geojson\\\" file in the data folder of [WaPORMOOC](https://github.com/wateraccounting/WaPORMOOC/tree/main/data))\n",
        "2. **Type of Data**: AETI and NPP\n",
        "3. **Spatial resolution**: Level 3\n",
        "4. **Temporal resolution**: dekadal\n",
        "5. **Start date**: 2020-10-01 `#Note: this is 2 years more than the previous exercise`\n",
        "6. **End date**: 2023-04-30\n",
        "\n",
        "The function `SumSeason` used in this Notebook is based on [WaPORWP](https://github.com/wateraccounting/WAPORWP)\n",
        "© 2020 Abebe Chukalla. Licensed under CC BY 4.0 Creative Commons.\n"
      ]
    },
    {
      "cell_type": "markdown",
      "metadata": {
        "id": "dOHkmq6KzN90"
      },
      "source": [
        "## Step 0. Import modules/libraries"
      ]
    },
    {
      "cell_type": "markdown",
      "metadata": {
        "id": "1S5mTckeLglz"
      },
      "source": [
        "For this Notebook we want to utilise mounting the Colab to be able to keep our results (the previous scripts work with temporary stored files). And to avoid taking a lot of time uploading the data. So the first step is to mount the drive."
      ]
    },
    {
      "cell_type": "code",
      "execution_count": null,
      "metadata": {
        "colab": {
          "base_uri": "https://localhost:8080/"
        },
        "id": "EbHp6uWA3TpL",
        "outputId": "9bd7f230-540b-409d-cf84-43a13e8f0478"
      },
      "outputs": [],
      "source": [
        "from google.colab import drive\n",
        "drive.mount('/content/drive')"
      ]
    },
    {
      "cell_type": "code",
      "execution_count": null,
      "metadata": {
        "colab": {
          "base_uri": "https://localhost:8080/"
        },
        "id": "WFai3WdwQ7i3",
        "outputId": "8c2f24c1-fbbd-4c2c-ffc0-63742cf4711e"
      },
      "outputs": [],
      "source": [
        "!pip install rioxarray --quiet"
      ]
    },
    {
      "cell_type": "code",
      "execution_count": null,
      "metadata": {
        "id": "dl6xEg_MzN90"
      },
      "outputs": [],
      "source": [
        "import os                                 # a module for interacting with the operating system\n",
        "import sys\n",
        "import glob                               # used to retrieve files/pathnames matching a specified pattern\n",
        "import re                                 # re sub() module can be used to replace substring\n",
        "import rioxarray as rio\n",
        "import pandas as pd                       # to store and manipulate tabular data in rows of observations and columns of variables\n",
        "import numpy as np                        # stands for 'Numerical Python, is a python library used for scientific computing with arrays\n",
        "import calendar\n",
        "import datetime\n",
        "from matplotlib import pyplot as plt      # is a plotting library used for 2D graphics in python\n",
        "from osgeo import gdal"
      ]
    },
    {
      "cell_type": "markdown",
      "metadata": {
        "id": "ylRqSb49kIhG"
      },
      "source": [
        "Run Code Cell if you need to upload your .zip file to Google Drive (Cell 1). Run second Code Cell for unzipping your .zip file. Update the paths where the .zip file is located and where you want to store the files. If the files are already there you can skip these two steps."
      ]
    },
    {
      "cell_type": "code",
      "execution_count": null,
      "metadata": {
        "id": "2BcfiucOIJfR"
      },
      "outputs": [],
      "source": [
        "#To upload file.\n",
        "from google.colab import files\n",
        "uploaded = files.upload()"
      ]
    },
    {
      "cell_type": "code",
      "execution_count": null,
      "metadata": {
        "id": "sUhpzLv4IcRl"
      },
      "outputs": [],
      "source": [
        "!unzip '/content/data.zip' -d '/content/drive/MyDrive/Python_mooc/Data'"
      ]
    },
    {
      "cell_type": "markdown",
      "metadata": {
        "id": "oShoN5_YzN91"
      },
      "source": [
        "## Step 1. Import raster (WaPOR) data"
      ]
    },
    {
      "cell_type": "markdown",
      "metadata": {
        "id": "BP3vPYnbMti9"
      },
      "source": [
        "In this section you will be importing the WaPOR data you downloaded using [Download_WaPORv3_Data Notebook](https://github.com/wateraccounting/WaPORMOOC/blob/main/1_WaPOR_download_colab/Download_WaPORv3_Data.ipynb). Store the files in a folder called `Python_mooc` in the main folder to execute the script, or adapt the path. "
      ]
    },
    {
      "cell_type": "code",
      "execution_count": null,
      "metadata": {
        "id": "VfzTzdl75lh1"
      },
      "outputs": [],
      "source": [
        "dir_proj = os.path.split(os.getcwd())[0]\n",
        "dir_data = \"/content/drive/MyDrive/Python_mooc/Data/content/output/\"\n",
        "input_folderAETI = os.path.join(dir_proj, dir_data, \"L3-AETI-D\")\n",
        "input_fhsAETI = glob.glob(os.path.join(input_folderAETI, '*.tif'))\n",
        "\n",
        "input_folderNPP = os.path.join(dir_proj, dir_data, \"L3-NPP-D\")\n",
        "input_fhsNPP = glob.glob(os.path.join(input_folderNPP, '*.tif'))"
      ]
    },
    {
      "cell_type": "markdown",
      "metadata": {},
      "source": [
        "<div class=\"alert alert-warning\">\n",
        "\n",
        "**NOTE:** Before continuing with the next steps, make sure that you already have the data needed in the folders below. \n",
        "\n",
        "</div>"
      ]
    },
    {
      "cell_type": "code",
      "execution_count": null,
      "metadata": {},
      "outputs": [],
      "source": [
        "print('Folder of input AETI data: '+input_folderAETI)\n",
        "print('Folder of input NPP data: '+input_folderNPP)"
      ]
    },
    {
      "cell_type": "markdown",
      "metadata": {},
      "source": [
        "This script also defines the output folder and the start (SOS) and end (EOS) dates for each season:"
      ]
    },
    {
      "cell_type": "code",
      "execution_count": null,
      "metadata": {
        "colab": {
          "base_uri": "https://localhost:8080/",
          "height": 35
        },
        "id": "ZzcvC9iRUuG6",
        "outputId": "baa99753-fa15-4072-f7ff-cd76f7930dc2"
      },
      "outputs": [],
      "source": [
        "output_folderAETI = \"/content/drive/MyDrive/Python_mooc/Data/AETI_season\"\n",
        "output_folderNPP = \"/content/drive/MyDrive/Python_mooc/Data/NPP_season\"\n",
        "\n",
        "if not os.path.exists(output_folderAETI):\n",
        "    os.makedirs(output_folderAETI)\n",
        "output_folderAETI\n",
        "\n",
        "if not os.path.exists(output_folderNPP):\n",
        "    os.makedirs(output_folderNPP)\n",
        "output_folderNPP"
      ]
    },
    {
      "cell_type": "code",
      "execution_count": null,
      "metadata": {
        "id": "6pkbN3awOAli"
      },
      "outputs": [],
      "source": [
        "season_periods = {\n",
        "    'season1': {'SOS': '2020-10-01', 'EOS': '2021-04-30'},\n",
        "    'season2': {'SOS': '2021-10-01', 'EOS': '2022-04-30'},\n",
        "    'season3': {'SOS': '2022-10-01', 'EOS': '2023-04-30'}\n",
        "}"
      ]
    },
    {
      "cell_type": "markdown",
      "metadata": {
        "id": "hvbIlMLGzN93"
      },
      "source": [
        "## Step 2. Define function for temporal aggregation"
      ]
    },
    {
      "cell_type": "markdown",
      "metadata": {
        "id": "s5Yj9ksmWt36"
      },
      "source": [
        "This script defines the function `SumSeason` which is used in the next sections. Using functions in such a way improves the readability and replicability of the scripts and avoids errors. For example we need this function to aggregate AETI and NPP data.\n",
        "\n",
        "Review this script, main difference compared to the script you used in the previous Notebook is that this script uses the metadata of the files to identify the dates. Disadvantage is that it requires opening and closing of each file and could take time when working with a lot of data. The script also considers part of dekadal values when start or end date is in the middle of the dekad (part of the if-statements)."
      ]
    },
    {
      "cell_type": "code",
      "execution_count": null,
      "metadata": {
        "id": "uHincWTXzN93"
      },
      "outputs": [],
      "source": [
        "# summation of raster between two dates\n",
        "def SumSeason(input_fhs, sowing_date, harvesting_date):\n",
        "\n",
        "    # add rasters that falls within sowing and harvesting date\n",
        "    Sums = 0\n",
        "    for i, in_fh in enumerate(input_fhs):\n",
        "        # open raster file and get start and end date from attributes\n",
        "        ds = rio.open_rasterio(in_fh)\n",
        "        ds = ds.where(ds!=ds.attrs['_FillValue'])\n",
        "        if i == 0:\n",
        "          attrs = ds.attrs\n",
        "        raster_startdate = datetime.datetime.strptime(ds.attrs['start_date'], '%Y-%m-%d' ).date()\n",
        "        raster_enddate   = datetime.datetime.strptime(ds.attrs['end_date'], '%Y-%m-%d' ).date()\n",
        "\n",
        "        # accumulate full or part of the dekadal value\n",
        "        if (raster_startdate >= sowing_date) & (raster_enddate <= harvesting_date):\n",
        "            Sum = ds\n",
        "            Sums += Sum\n",
        "#             print (\"1\",in_fh)\n",
        "\n",
        "        elif (raster_startdate <sowing_date)&(raster_enddate >sowing_date)&(raster_enddate <harvesting_date):\n",
        "            Sum = ds\n",
        "            Sum = Sum*((raster_enddate-sowing_date)/(raster_enddate-raster_startdate))\n",
        "            Sums += Sum\n",
        "#             print (\"2\",in_fh)\n",
        "\n",
        "        elif (raster_startdate >sowing_date)&(raster_startdate <harvesting_date)&(raster_enddate >harvesting_date):\n",
        "            Sum = ds\n",
        "            Sum = Sum*((harvesting_date- raster_startdate)/(raster_enddate-raster_startdate))\n",
        "            Sums += Sum\n",
        "#             print (\"3\",in_fh)\n",
        "\n",
        "        elif (sowing_date>=raster_startdate)&(harvesting_date<=raster_enddate):\n",
        "            Sum = ds\n",
        "            Sum = Sum*((harvesting_date- sowing_date)/(raster_enddate-raster_startdate))\n",
        "            Sums += Sum\n",
        "#             print (\"4\",in_fh)\n",
        "    attrs.update({'start_date':datetime.datetime.strftime(SOS, '%Y-%m-%d'),\n",
        "              'end_date': datetime.datetime.strftime(EOS, '%Y-%m-%d'),\n",
        "              'units' : 'mm/season'})\n",
        "    del attrs['number_of_days']\n",
        "    del attrs['temporal_resolution']\n",
        "    del attrs['units_conversion_factor']\n",
        "\n",
        "    Sums.attrs  = attrs\n",
        "    return Sums"
      ]
    },
    {
      "cell_type": "markdown",
      "metadata": {
        "id": "XRlG-gHLzN95"
      },
      "source": [
        "## Step 3. Calculate seasonal AETI and NPP"
      ]
    },
    {
      "cell_type": "markdown",
      "metadata": {
        "id": "QNit074EZQmp"
      },
      "source": [
        "## i) Calculate seasonal Actual Evapotranspiration and Interception (AETI)\n",
        "\n",
        "In this script the start and end date of each season is read and then the function `SumSeason` is called. Seasonally aggregated data is then saved, and mean and standard deviation (SD) calculated for each season. Final part of the script is plotting all maps."
      ]
    },
    {
      "cell_type": "code",
      "execution_count": null,
      "metadata": {
        "colab": {
          "base_uri": "https://localhost:8080/",
          "height": 1000
        },
        "id": "S8cDVk1XzN95",
        "outputId": "4f1b67a3-7494-4772-e1ec-f1f9e857edfc"
      },
      "outputs": [],
      "source": [
        "# Assign inputs to the SumSeason function\n",
        "input_fhs      = input_fhsAETI\n",
        "output_folder  = output_folderAETI\n",
        "\n",
        "\n",
        "for i, season in enumerate(season_periods):\n",
        "    # calculate the seasonal value and save in output_folder\n",
        "    SOS = datetime.datetime.strptime(season_periods[season]['SOS'],'%Y-%m-%d').date()\n",
        "    EOS = datetime.datetime.strptime(season_periods[season]['EOS'],'%Y-%m-%d').date()\n",
        "    seasonal = SumSeason(input_fhs, SOS, EOS)\n",
        "\n",
        "    ## save the array in raster format, name it with the raster_id and sowing and harvesting date\n",
        "    out_fh = os.path.join(output_folder, 'AETI' + season + '_' + season_periods[season]['SOS']+'_to_'+season_periods[season]['EOS']+ '.tif')\n",
        "    seasonal.rio.to_raster(out_fh)\n",
        "\n",
        "    # calculate the mean, SD\n",
        "    print ('the mean, SD for ', season_periods[season]['SOS'] + '/' + season_periods[season]['EOS'], '=', np.nanmean(seasonal).round(1),'&',np.nanstd(seasonal).round(1))\n",
        "\n",
        "    # Plot the raster map\n",
        "    spatial_extent = (seasonal.x.min(), seasonal.x.max(), seasonal.y.min(), seasonal.y.max())\n",
        "    plt.figure(figsize = (12,8))\n",
        "    plt.imshow(seasonal[0], cmap='jet_r', vmin=np.nanmin(seasonal), vmax=np.nanmax(seasonal), extent=spatial_extent)\n",
        "    plt.colorbar(shrink=0.75, label='AETI [mm/season]')\n",
        "    plt.xlabel('Longitude [m]', fontsize=14)  # add axes label\n",
        "    plt.ylabel('Latitude [m]', fontsize=14)\n",
        "    plt.title('AETI [mm/season] ' + season_periods[season]['SOS'] + '/' + season_periods[season]['EOS'], fontsize=16)\n",
        "    plt.clim()\n",
        "    plt.show ();"
      ]
    },
    {
      "cell_type": "markdown",
      "metadata": {
        "id": "77TTu5_saJwQ"
      },
      "source": [
        "## ii) Calculate seasonal Net Primary Production (NPP)\n",
        "\n",
        "In this Code Cell write the script to create the seasonal NPP maps.\n",
        "\n",
        "HINT:\n",
        "    \n",
        "    Script is very similar to calculating seasonal AETI,\n",
        "    Dont forget to update the labels of the axis of the maps, check unit of the NPP."
      ]
    },
    {
      "cell_type": "code",
      "execution_count": null,
      "metadata": {
        "id": "uB2Gbz-DzN96"
      },
      "outputs": [],
      "source": [
        "# Assign inputs to the SumSeason function\n",
        "\n",
        "\n",
        "    # calculate the seasonal value and save in output_folder\n",
        "\n",
        "\n",
        "    ## save the array in raster format, name it with the raster_id and sowing and harvesting date\n",
        "\n",
        "    # calculate the mean, SD\n",
        "\n",
        "    # Plot the raster map\n",
        "\n",
        "\n"
      ]
    },
    {
      "cell_type": "markdown",
      "metadata": {
        "id": "KOyyc-XZa6jY"
      },
      "source": [
        "<div class=\"alert alert-success\">\n",
        "\n",
        "⚡ **EXERCISE 1**:\n",
        "\n",
        "What are the maximum, mean and standard deviation of the **seasonal AETI and NPP** for season 2 (2021/2022)?\n",
        "\n",
        "**HINT**: you have to adapt the script to also show the maximum seasonal values and rerun the scripts\n",
        "\n",
        "Note down the values (rounded to the nearest integer, no decimals), you will need to enter these in the MOOC quiz!\n",
        "</div>"
      ]
    },
    {
      "cell_type": "markdown",
      "metadata": {
        "id": "IpSQ5ZvJ-or8"
      },
      "source": [
        "# Calculating Total Seasonal Biomass Production"
      ]
    },
    {
      "cell_type": "markdown",
      "metadata": {
        "id": "Lc95c5tvbS9X"
      },
      "source": [
        "Net Primary Production can be used to estimate total biomass production using the following formula:\n",
        "\n",
        "    TBP = (NPP *22.222)/1000\n",
        "\n",
        "The value 22.222 is to convert the NPP in gC/m^2 to biomass production in kg/ha. To convert to ton/ha the value is divided by 1000.\n",
        "\n",
        "Review this script to check what each lines does."
      ]
    },
    {
      "cell_type": "code",
      "execution_count": null,
      "metadata": {
        "id": "hGwkVoU684aW"
      },
      "outputs": [],
      "source": [
        "dir_proj = os.path.split(os.getcwd())[0]  # os.getcwd() is for the current directory\n",
        "dir_data = \"/content/drive/MyDrive/Python_mooc/Data\"\n",
        "input_folderNPPs = os.path.join(dir_proj, dir_data, \"NPP_season\")\n",
        "input_fhsNPPs = glob.glob(os.path.join(input_folderNPPs, '*.tif'))\n",
        "\n",
        "output_folderBM = os.path.join(dir_proj, dir_data, \"TBP_season\")\n",
        "\n",
        "# if the directory and folder does not exit, make one\n",
        "if not os.path.exists(output_folderBM):\n",
        "    os.makedirs(output_folderBM)\n",
        "output_folderBM"
      ]
    },
    {
      "cell_type": "code",
      "execution_count": null,
      "metadata": {
        "id": "Yp-yyXAKGb7i"
      },
      "outputs": [],
      "source": [
        "glob.glob(os.path.join(input_folderNPPs, '*.tif'))"
      ]
    },
    {
      "cell_type": "code",
      "execution_count": null,
      "metadata": {
        "id": "zhU2A4Pr0Lyc"
      },
      "outputs": [],
      "source": [
        "\n",
        "for i, season in enumerate(season_periods):\n",
        "    NPP  = rio.open_rasterio(input_fhsNPPs[i], nan_values=True)\n",
        "    TBP = (NPP * 22.222) / 1000  # Total biomass production, 1000 is to convert from kg to ton\n",
        "\n",
        "\n",
        "    # save into output folder\n",
        "    output_folder = output_folderBM\n",
        "    out_fh = os.path.join(output_folder, 'TBP' + season + '_' + season_periods[season]['SOS']+'_to_'+season_periods[season]['EOS']+ '.tif')\n",
        "    TBP.rio.to_raster(out_fh)\n",
        "\n",
        "    # Plot the raster map\n",
        "    seasonal = TBP\n",
        "    spatial_extent = (seasonal.x.min(), seasonal.x.max(), seasonal.y.min(), seasonal.y.max())\n",
        "\n",
        "    # calculate the mean, SD\n",
        "    print ('the mean & SD for ', '=', np.nanmean(seasonal).round(1),'&',np.nanstd(seasonal).round(1))\n",
        "\n",
        "\n",
        "    plt.figure(figsize = (12,8))\n",
        "    plt.imshow(seasonal[0], cmap='RdYlGn', vmin=np.nanmin(seasonal), vmax=np.nanmax(seasonal), extent=spatial_extent)\n",
        "    plt.colorbar(shrink=0.75, label='Total biomass Production [ton/ha/season]')\n",
        "    plt.xlabel('Longitude (m)', fontsize=12)  # add axes label\n",
        "    plt.ylabel('Latitude (m)', fontsize=12)\n",
        "    plt.title('Total Biomass Production [ton/ha/season] ' + season_periods[season]['SOS'] + '/' + season_periods[season]['EOS'])\n",
        "    plt.clim()\n",
        "    plt.show ();"
      ]
    },
    {
      "cell_type": "markdown",
      "metadata": {
        "id": "KC72cNhu00Ml"
      },
      "source": [
        "<div class=\"alert alert-success\">\n",
        "\n",
        "⚡ **EXERCISE 2**:\n",
        "\n",
        "What is the **maximum** value of the seasonal TBP for season 3 (2022/2023)?\n",
        "\n",
        "Note down this value (rounded to the nearest integer, no decimals), you will need to enter these in the MOOC quiz!\n",
        "</div>"
      ]
    },
    {
      "cell_type": "markdown",
      "metadata": {
        "id": "ohscjC0T3fRv"
      },
      "source": [
        "<div class=\"alert alert-success\">\n",
        "\n",
        "⚡ **EXERCISE 3**: What could be possible reasons for the large range in values in TBP?\n",
        "\n",
        "1. Farmers are growing different crops\n",
        "2. Some farmers left their land fallow\n",
        "3. Not all farmers received sufficient irrigation water\n",
        "4. Some farms were not weeded timely\n",
        "5. Some farms were affected by pests\n",
        "6. All of the above  \n",
        "\n",
        "Note down your answer, you will need to enter these in the MOOC quiz!\n",
        "</div>"
      ]
    },
    {
      "cell_type": "markdown",
      "metadata": {
        "id": "ZKLcZxaQ_BVR"
      },
      "source": [
        "# Calculating Water Productivity"
      ]
    },
    {
      "cell_type": "markdown",
      "metadata": {
        "id": "dHR4xpJAoMbD"
      },
      "source": [
        "Finally we will calculate biomass water productivity, which is defined as the total biomass production divided by the AETI:\n",
        "\n",
        "    WPb = TBP/AETI * 100\n",
        "\n",
        "The multiplication with 100 is needed to correct the units, first convert TBP in ton/ha to kg/m^2 (divide by 10) and then AETI from mm/season to m/season (divide by 1000) so that the final unit of WPb is kg/m^3"
      ]
    },
    {
      "cell_type": "code",
      "execution_count": null,
      "metadata": {
        "id": "2WNfkNmT_dwE"
      },
      "outputs": [],
      "source": [
        "dir_proj = os.path.split(os.getcwd())[0]  # os.getcwd() is for the current directory\n",
        "dir_data = \"/content/drive/MyDrive/Python_mooc/Data\"\n",
        "input_folder1  = os.path.join(dir_proj, dir_data, \"AETI_season\")\n",
        "input_fhsET = glob.glob(os.path.join(input_folder1, '*.tif'))\n",
        "\n",
        "input_folder2 = os.path.join(dir_proj, dir_data, \"TBP_season\")\n",
        "input_fhsTBP  = glob.glob(os.path.join(input_folder2, '*.tif'))\n"
      ]
    },
    {
      "cell_type": "code",
      "execution_count": null,
      "metadata": {
        "id": "HLe9xsF7_dBe"
      },
      "outputs": [],
      "source": [
        "dir_proj = os.path.split(os.getcwd())[0]\n",
        "dir_data = \"Data\"\n",
        "\n",
        "output_folderWPb = os.path.join(dir_proj, dir_data, \"WP_season\")\n",
        "\n",
        "# if the directory and folder does not exit, make one\n",
        "if not os.path.exists(output_folderWPb):\n",
        "    os.makedirs(output_folderWPb)\n",
        "output_folderWPb"
      ]
    },
    {
      "cell_type": "code",
      "execution_count": null,
      "metadata": {
        "id": "99JENt8h_A2w"
      },
      "outputs": [],
      "source": [
        "# collecting Geoinfo such as projection, the x and y axis\n",
        "in_fh = input_fhsET[0]\n",
        "\n",
        "## Calculate the WP\n",
        "for in_fhET, in_fhTBP in zip(input_fhsET, input_fhsTBP):\n",
        "    AETI = rio.open_rasterio(in_fhET, nan_values=True)\n",
        "    TBP = rio.open_rasterio(in_fhTBP, nan_values=True)\n",
        "    WPb  = TBP/AETI*100 # the multiplication with 100 is to correct the units to kg/m3 (from AETI in mm/season and TBP in ton/ha)\n",
        "\n",
        "\n",
        "    # save into output folder\n",
        "    output_folder = output_folderWPb\n",
        "    basename      = os.path.basename(in_fhET).replace('ET', 'WPb')\n",
        "    output_fn     = os.path.join(output_folder, basename)\n",
        "    spatial_extent = (seasonal.x.min(), seasonal.x.max(), seasonal.y.min(), seasonal.y.max())\n",
        "\n",
        "    # Plot the raster map\n",
        "    seasonal = WPb\n",
        "\n",
        "    # calculate the mean, SD\n",
        "    print ('the mean & SD for ', '=', np.nanmean(seasonal).round(2),'&',np.nanstd(seasonal).round(2))\n",
        "\n",
        "    plt.figure(figsize = (12,8))\n",
        "    plt.imshow(seasonal[0], cmap='RdYlGn', vmin=np.nanmin(seasonal), vmax=np.nanmax(seasonal), extent=spatial_extent)\n",
        "    plt.colorbar(shrink=0.75, label='WPb [kg/m3]')\n",
        "    plt.xlabel('Longitude (m)', fontsize=12)  # add axes label\n",
        "    plt.ylabel('Latitude (m)', fontsize=12)\n",
        "    plt.title('Biomass water productivity [kg/m3]   ' + season_periods[season]['SOS'] + '/' + season_periods[season]['EOS'])\n",
        "    plt.clim()\n",
        "    plt.show ()\n",
        "    ;"
      ]
    },
    {
      "cell_type": "markdown",
      "metadata": {
        "id": "pm_nzjwa1F8A"
      },
      "source": [
        "<div class=\"alert alert-success\">\n",
        "\n",
        "⚡ **EXERCISE 4**:\n",
        "\n",
        "Which season has the highest mean biomass water productivity?\n",
        "\n",
        "Note down your answer, you will need to enter these in the MOOC quiz!\n",
        "</div>"
      ]
    },
    {
      "cell_type": "code",
      "execution_count": null,
      "metadata": {
        "id": "wt4ZEAZDG5sx"
      },
      "outputs": [],
      "source": []
    }
  ],
  "metadata": {
    "colab": {
      "provenance": []
    },
    "kernelspec": {
      "display_name": "Python 3 (ipykernel)",
      "language": "python",
      "name": "python3"
    },
    "language_info": {
      "codemirror_mode": {
        "name": "ipython",
        "version": 3
      },
      "file_extension": ".py",
      "mimetype": "text/x-python",
      "name": "python",
      "nbconvert_exporter": "python",
      "pygments_lexer": "ipython3",
      "version": "3.10.8"
    }
  },
  "nbformat": 4,
  "nbformat_minor": 0
}
