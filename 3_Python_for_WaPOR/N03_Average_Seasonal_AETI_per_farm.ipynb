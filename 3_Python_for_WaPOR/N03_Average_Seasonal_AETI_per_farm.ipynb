{
  "nbformat": 4,
  "nbformat_minor": 0,
  "metadata": {
    "colab": {
      "provenance": []
    },
    "kernelspec": {
      "name": "python3",
      "display_name": "Python 3"
    },
    "language_info": {
      "name": "python"
    }
  },
  "cells": [
    {
      "cell_type": "markdown",
      "source": [
        "#**Using Python Libraries for Handling WaPOR Data**\n",
        "#Notebook 3: Calculating areal average values using WaPOR data\n",
        "In this Notebook we will show you how to calculate seasonal AETI and dekadal timeseries of AETI for different farms or group of farms (eg tertiary unit).   \n",
        "The steps are:\n",
        "1. Install and load necessary Python Libraries to manage raster files\n",
        "2. Load and visualise seasonal WaPOR AETI created in [Notebook 2 : Temporal data aggregation](https://github.com/wateraccounting/WaPORMOOC/blob/main/3_Python_for_WaPOR/N02_Temporal_Aggregation.ipynb)\n",
        "3. Calculate average seasonal AETI for each farm and calculate statistics\n",
        "4. Calculate zonal statistics for tertiary unit\n",
        "5. Visualise time series of dekadal AETI per farm\n",
        "\n",
        "Exercises included in the Notebook needed for the MOOC quiz\n",
        "\n",
        "\n",
        "**Data needed (same as for Notebook 02)**:\n",
        "\n",
        "For the exercises of the [MOOC Python for geospatial analyses using WaPOR data](https://ocw.un-ihe.org/course/view.php?id=272) you can use the following data:\n",
        "\n",
        "* Seasonal WaPOR AETI tiff file created in [Notebook 2 Temporal data aggregation](https://github.com/wateraccounting/WaPORMOOC/blob/main/3_Python_for_WaPOR/N02_Temporal_Aggregation.ipynb)\n",
        "\n",
        "* For the farm level analyses we will be using the WH_Fields.geojson file located in the data folder of [WaPORMOOC](https://github.com/wateraccounting/WaPORMOOC)).\n",
        "\n",
        "We will also be using the same WaPOR data as used for [Notebook 2 : Temporal data aggregation](https://github.com/wateraccounting/WaPORMOOC/blob/main/3_Python_for_WaPOR/N02_Temporal_Aggregation.ipynb) for the temporal analyses:  \n",
        "* **Area**: Wad Helal in the Gezira Irrigation Scheme (you can find the \"Wad_Helal.geojson\" file in the data folder of [WaPORMOOC](https://github.com/wateraccounting/WaPORMOOC)).\n",
        "\n",
        "* **Type of Data**: AETI\n",
        "\n",
        "* **Spatial resolution**: Level 3\n",
        "\n",
        "* **Temporal resolution**: dekadal\n",
        "\n",
        "* **Start date**: 2022-10-01\n",
        "\n",
        "* **End date**: 2023-04-30"
      ],
      "metadata": {
        "id": "PCw42k2hRewU"
      }
    },
    {
      "cell_type": "markdown",
      "source": [
        "\n",
        "\n",
        "---\n",
        "\n"
      ],
      "metadata": {
        "id": "RGYMiFmRFcR2"
      }
    },
    {
      "cell_type": "markdown",
      "source": [
        "### **Step 1 Install and import required python libraries**"
      ],
      "metadata": {
        "id": "2bDeRCCoW7Ki"
      }
    },
    {
      "cell_type": "code",
      "source": [
        "# Install required packages\n",
        "%%capture\n",
        "!pip install --upgrade xarray  --quiet\n",
        "!pip install --upgrade geopandas --quiet\n",
        "!pip install --upgrade rioxarray --quiet\n",
        "!pip install rasterstats"
      ],
      "metadata": {
        "id": "uDpCDTAgRfmD"
      },
      "execution_count": 1,
      "outputs": []
    },
    {
      "cell_type": "code",
      "source": [
        "# Import the required packages\n",
        "from osgeo import gdal\n",
        "import xarray as xr\n",
        "import rioxarray as rioxr\n",
        "import numpy as np\n",
        "import pandas as pd\n",
        "import geopandas as gpd\n",
        "import glob\n",
        "import os\n",
        "import rasterio as rio\n",
        "from rasterio.plot import show\n",
        "import matplotlib.pyplot as plt\n",
        "from rasterstats import zonal_stats\n",
        "import matplotlib.colors as mcolors"
      ],
      "metadata": {
        "id": "Sy_poELISE0O"
      },
      "execution_count": 2,
      "outputs": []
    },
    {
      "cell_type": "markdown",
      "source": [
        "### **N.B.**\n",
        ">In this notebook we used additional Python Libraries called <font color='steelblue'>**`Xarray`**</font> and <font color='steelblue'>**`rioxarray`**</font>. <font color='steelblue'>**`Xarray`**</font> is a python library which simplifies working with labelled multi-dimension arrays such as stack of rasters and<font color='steelblue'>**`rioxarray`**</font> is an Xarray extension that allows reading and writing a wide variety of geospatial image formats compatible with Geographic Information Systems (GIS). Introducing these libraries is out of the scope of this Notebook, but for **[xarray](https://tutorial.xarray.dev/overview/xarray-in-45-min.html)** and **[rioxarray](https://corteva.github.io/rioxarray/html/getting_started/getting_started.html)** you can find good Notebooks that provide a good introduction about the libraries for a basic understanding."
      ],
      "metadata": {
        "id": "oiJRtv8E5slJ"
      }
    },
    {
      "cell_type": "markdown",
      "source": [
        "\n",
        "\n",
        "---\n",
        "\n"
      ],
      "metadata": {
        "id": "qjn7oLuQFhAz"
      }
    },
    {
      "cell_type": "markdown",
      "source": [
        "## **Step 2 - Load and visualise seasonal WaPOR AETI**\n",
        "\n",
        "We will now upload the Seasonal WaPOR AETI file you created  in [Notebook 2 : Temporal data aggregation](https://github.com/wateraccounting/WaPORMOOC/blob/main/3_Python_for_WaPOR/N02_Temporal_Aggregation.ipynb). This file as a .tif extension.\n",
        "\n",
        "Execute the command below, click the `Choose Files` button, navigate to where you have saved the .tif file in your local drive and select the file."
      ],
      "metadata": {
        "id": "b3A1fwh1XYlv"
      }
    },
    {
      "cell_type": "code",
      "source": [
        "#To upload file.\n",
        "from google.colab import files\n",
        "uploaded = files.upload()"
      ],
      "metadata": {
        "id": "IIiJJMq5SJKk"
      },
      "execution_count": null,
      "outputs": []
    },
    {
      "cell_type": "markdown",
      "source": [
        "The following script displays the data read using 'rioxarray' and plotted using the `matplotlib` Libary"
      ],
      "metadata": {
        "id": "okHVboUU9_Ej"
      }
    },
    {
      "cell_type": "code",
      "source": [
        "seasonal_AETI = '/content/Wad_Helal_seasonal_AETI.tif'      # Path to seasonal file\n",
        "seasonal = rioxr.open_rasterio(seasonal_AETI)             # open the raster file\n",
        "seasonal.plot()                                         # Display the raster file\n",
        "\n"
      ],
      "metadata": {
        "id": "6sYZUUdN_nPv"
      },
      "execution_count": null,
      "outputs": []
    },
    {
      "cell_type": "markdown",
      "source": [
        "You can see that the projection of the map is off, but the unit is correct. Another way is to read the file using 'rasterio'. The heading of the map is also generic. An alternative way to plot the map is shown below.  "
      ],
      "metadata": {
        "id": "RAQtg5G-B4N6"
      }
    },
    {
      "cell_type": "code",
      "source": [
        "with rio.open(seasonal_AETI) as seasonal:                        # Open the raster file\n",
        "    fig, ax = plt.subplots(figsize=(10, 10))                # Create a matplotlib figure and axis object with a specified size\n",
        "    show(seasonal, ax=ax, title='Seasonal AETI')                 # Use rasterio's show function to display the raster data on the axes\n",
        "    plt.show()                                              # Display the plot"
      ],
      "metadata": {
        "id": "2ePCF6eFB4o_"
      },
      "execution_count": null,
      "outputs": []
    },
    {
      "cell_type": "markdown",
      "source": [
        "To add more elements to the map you can adapt the script below. Try to change the colors used for the map (change the 'cmap' variable). For more information check [here](https://www.analyticsvidhya.com/blog/2020/09/colormaps-matplotlib/)\n",
        "\n"
      ],
      "metadata": {
        "id": "2W1jozW7DUxF"
      }
    },
    {
      "cell_type": "code",
      "source": [
        "seasonal = rio.open(seasonal_AETI)\n",
        "spatial_extent = (seasonal.bounds.left, seasonal.bounds.right, seasonal.bounds.bottom, seasonal.bounds.top)\n",
        "\n",
        "# Read the first band\n",
        "data = seasonal.read(1)\n",
        "\n",
        "# Plotting\n",
        "plt.figure(figsize=(12, 8))\n",
        "plt.imshow(data, cmap='jet_r', vmin=np.nanmin(data), vmax=np.nanmax(data), extent=spatial_extent)\n",
        "plt.colorbar(shrink=0.75, label='AETI [mm/season]')\n",
        "plt.xlabel('Longitude [m]', fontsize=14)\n",
        "plt.ylabel('Latitude [m]', fontsize=14)\n",
        "plt.title('AETI [mm/season]', fontsize=16)\n",
        "plt.show()"
      ],
      "metadata": {
        "id": "GxgP6P_nETei"
      },
      "execution_count": null,
      "outputs": []
    },
    {
      "cell_type": "markdown",
      "source": [
        "\n",
        "\n",
        "---\n",
        "\n"
      ],
      "metadata": {
        "id": "t1EMmfVEFm1U"
      }
    },
    {
      "cell_type": "markdown",
      "source": [
        "## **Step 3 - Calculate average seasonal AETI for each farm and calculate statistics**"
      ],
      "metadata": {
        "id": "6AvOUgbR2iBt"
      }
    },
    {
      "cell_type": "markdown",
      "source": [
        "Upload and read the area of interest. In this case the WH_Field.shp file that contains information about 214 individual fields within the Wad Helal irrigation block that cropped Wheat in the 2022/2023 winter season.\n",
        "\n",
        "**NOTE:**\n",
        "\n",
        "The file for the farms in this script is a .shp file. Create a .shp file from the geojson file in QGIS first. Dont forget to upload all dependencies in the same folder!\n",
        "\n"
      ],
      "metadata": {
        "id": "T80UmhfL2oq5"
      }
    },
    {
      "cell_type": "code",
      "source": [
        "shapefile_path = '/content/WH_fields.shp'\n"
      ],
      "metadata": {
        "id": "ntDU6TUKFUN3"
      },
      "execution_count": 11,
      "outputs": []
    },
    {
      "cell_type": "code",
      "source": [
        "gdf = gpd.read_file(shapefile_path)\n",
        "# Plotting the fields\n",
        "gdf.plot()\n",
        "gdf"
      ],
      "metadata": {
        "id": "5TqWXFQKFsEh"
      },
      "execution_count": null,
      "outputs": []
    },
    {
      "cell_type": "markdown",
      "source": [
        "Now we are adding the **mean** seasonal AETI for each of these farms."
      ],
      "metadata": {
        "id": "_7K2IOFv5XRH"
      }
    },
    {
      "cell_type": "code",
      "source": [
        "# Convert CRS to EPSG:32636 if necessary\n",
        "if gdf.crs != 'epsg:32636':\n",
        "    gdf = gdf.to_crs(epsg=32636)\n",
        "\n",
        "# filter out empty or null geometries\n",
        "gdf = gdf[~(gdf['geometry'].is_empty | gdf['geometry'].isna())]\n",
        "\n",
        "# Calculate zonal statistics for mean\n",
        "gdf[\"mean_AETI\"] = pd.DataFrame(\n",
        "            zonal_stats(\n",
        "                vectors=gdf,\n",
        "                raster=seasonal_AETI,\n",
        "                nodata=np.nan,\n",
        "                all_touched=False\n",
        "            )\n",
        "        )[\"mean\"]\n",
        "gdf"
      ],
      "metadata": {
        "id": "MQlEjAWt2v8m"
      },
      "execution_count": null,
      "outputs": []
    },
    {
      "cell_type": "markdown",
      "source": [
        "We want to get the area for each of these farms and add this to the DataFrame.\n"
      ],
      "metadata": {
        "id": "eGgmxMxvOoiC"
      }
    },
    {
      "cell_type": "code",
      "source": [
        "# Calculate area of each polygon in square meters\n",
        "gdf['Area_sqm'] = gdf.area\n",
        "\n",
        "# Initialize results DataFrame\n",
        "gdf = gdf.copy()\n",
        "gdf"
      ],
      "metadata": {
        "id": "bZSsArXN46oO"
      },
      "execution_count": null,
      "outputs": []
    },
    {
      "cell_type": "markdown",
      "source": [
        "<div class=\\\"alert alert-success\\\">\n",
        "\n",
        "**Exercise 1**\n",
        "\n",
        "Which field has the highest mean seasonal AETI and what is the amount?\n",
        "\n",
        "In which tertiary unit is the largest field located and what is the area?\n",
        "\n",
        "Note down the answers, you need them for the MOOC quiz!!\n",
        "\n",
        "</div>"
      ],
      "metadata": {
        "id": "9CyG5DZtBmLr"
      }
    },
    {
      "cell_type": "markdown",
      "source": [
        "Why do the farms in BahiEddin21 have NaN values for the seasonal AETI?\n",
        "\n",
        "<details>\n",
        "  <summary>Answer</summary>\n",
        "\n",
        "* There is no WaPOR data for this tertiary unit, so it didnt calculate seasonal AETI\n",
        "</details>\n",
        "    \n",
        "</div>"
      ],
      "metadata": {
        "id": "telpCSQ0Bl9T"
      }
    },
    {
      "cell_type": "markdown",
      "source": [
        "We now want to get the timeseries statistics\n",
        "\n",
        "**NOTE** Upload the WaPOR AETI dekadal data which you also used in Notebook 02. Dont forget to unzip the file!"
      ],
      "metadata": {
        "id": "mVD3sThS4mNJ"
      }
    },
    {
      "cell_type": "code",
      "source": [
        "#upload .zipfile\n",
        "\n",
        "\n",
        "#unzip file\n"
      ],
      "metadata": {
        "id": "dv9sawq4A_6l"
      },
      "execution_count": null,
      "outputs": []
    },
    {
      "cell_type": "code",
      "source": [
        "shapefile_path = '/content/WH_fields.shp'\n",
        "folder_path = '/content/content/output/L3-AETI-D'"
      ],
      "metadata": {
        "id": "sE4tF-BP4nMI"
      },
      "execution_count": 23,
      "outputs": []
    },
    {
      "cell_type": "code",
      "source": [
        "def extract_identifier_from_filename(filename):   ## make sure to identify which part of the file name has date\n",
        "    parts = filename.split('_')\n",
        "    date_part = parts[6]\n",
        "    return date_part.rstrip('.tif')\n",
        "\n",
        "# Convert CRS to EPSG:32636 if necessary\n",
        "if gdf.crs != 'epsg:32636':\n",
        "    gdf = gdf.to_crs(epsg=32636)\n",
        "\n",
        "# Calculate area of each polygon in square meters\n",
        "gdf['Area_sqm'] = gdf.area\n",
        "\n",
        "# Initialize results DataFrame\n",
        "results_gdf = gdf.copy()\n",
        "\n",
        "# Find all TIFF files in the folder\n",
        "tif_files = glob.glob(os.path.join(folder_path, \"*.tif\"))\n",
        "print(f\"Found {len(tif_files)} TIFF files to process.\")\n",
        "\n",
        "# Process each TIFF file\n",
        "for tif_file in tif_files:\n",
        "    # Extract identifier from filename\n",
        "    identifier = extract_identifier_from_filename(os.path.basename(tif_file))\n",
        "\n",
        "    # Calculate zonal statistics for mean\n",
        "    stats = zonal_stats(gdf, tif_file, stats=\"mean\", nodata=-9999)  # Assuming -9999 as NoData value; adjust as necessary\n",
        "\n",
        "    # Extract mean values and assign to new column in DataFrame\n",
        "    means = [stat['mean'] if stat else None for stat in stats]\n",
        "    results_gdf[identifier] = means\n",
        "\n",
        "# Remove the geometry column from the results DataFrame for easier data handling/viewing\n",
        "results_df = results_gdf.drop(columns=['geometry'])\n",
        "\n",
        "# Now the DataFrame 'results_df' holds the results without the geometry column and includes area calculations\n",
        "print(\"Mean zonal statistics by date/identifier are stored in the DataFrame, including area calculations.\")\n"
      ],
      "metadata": {
        "id": "n2lPfjoVKCiI"
      },
      "execution_count": null,
      "outputs": []
    },
    {
      "cell_type": "code",
      "source": [
        "results_df"
      ],
      "metadata": {
        "id": "l4ma42PjKJWO"
      },
      "execution_count": null,
      "outputs": []
    },
    {
      "cell_type": "markdown",
      "source": [
        "\n",
        "To calculate the min, max and mean of the seasonal AETI and Farm area for each farm we use the following Panda functions, which we introduced in [Notebook 01 Introduction to Pandas and Geopandas](https://github.com/wateraccounting/WaPORMOOC/blob/main/3_Python_for_WaPOR/N01_Intro_Pandas_and_Geopandas.ipynb):\n",
        "```python\n",
        "    df.iloc[:,1:] # Selects the column of the dataframe starting from the second column\n",
        "    .agg(['min', 'max', 'mean']) # aggregate function to calculate the min, max and mean of the selected dataframe columns\n",
        "    .round() # function to round the values of the columns\n",
        "    .astype(int) # to change the data type of the columns to integer\n",
        "\n",
        "```"
      ],
      "metadata": {
        "id": "5fewIQSyjaPm"
      }
    },
    {
      "cell_type": "code",
      "source": [
        "# applying the above functions to get minimum, maximum and mean of the AETI and the area\n",
        "mm = results_df.iloc[:,4].agg(['min', 'max', 'mean']).round().astype(int)\n",
        "mm"
      ],
      "metadata": {
        "id": "KBRzX2XkKbIb"
      },
      "execution_count": null,
      "outputs": []
    },
    {
      "cell_type": "markdown",
      "source": [
        "Saving the dataframes computed above to .csv and download them to local folder:"
      ],
      "metadata": {
        "id": "ZATq-rLiK25J"
      }
    },
    {
      "cell_type": "code",
      "source": [
        "# for dataframe df\n",
        "file_name = f'AETI_and_Area_per_farm_Wad_Helal.csv'\n",
        "results_df.to_csv(file_name)\n",
        "\n",
        "#download the csv file\n",
        "files.download(file_name)\n"
      ],
      "metadata": {
        "id": "2WqyxsRNLQaa"
      },
      "execution_count": null,
      "outputs": []
    },
    {
      "cell_type": "markdown",
      "source": [
        "<div class=\"alert alert-success\">\n",
        "\n",
        "## **Step 4: Calculate zonal statistics for tertiary unit**:\n",
        "\n",
        ">Do the zonal statistics for tertiary unit **`'FakiMusa6`** and get the minimum, maximum and mean of the seasonal average AETI and the area of each farm.\n",
        "\n",
        ">Note down the values (rounded to the integer values), you will need them for the MOOC quiz.\n",
        "\n",
        "\n",
        "<details>\n",
        "  <summary>HINT</summary>\n",
        "\n",
        ">Select the field **`'FakiMusa6'`** from the GeoDataFrame and run the last three cells.\n",
        "\n",
        "</details>\n",
        "    \n",
        "</div>\n",
        "\n"
      ],
      "metadata": {
        "id": "m69VBTyWKa3r"
      }
    },
    {
      "cell_type": "markdown",
      "source": [
        "As you can see from the DataFrame there are different categories in the 'layer' column, these represent the different tertiary units in the Wad Helal irrigation block. You can get the name of the tertiary units using the following code:"
      ],
      "metadata": {
        "id": "zqCAOnrV3KAT"
      }
    },
    {
      "cell_type": "code",
      "source": [
        "# get the name of the fields\n",
        "np.unique(results_df['layer'])"
      ],
      "metadata": {
        "id": "C33Fhbxu1pS3"
      },
      "execution_count": null,
      "outputs": []
    },
    {
      "cell_type": "markdown",
      "source": [
        "We can visualise the map of the farms with a differentiation between the different tertiary units (in the DataFrame, each tertiary unit has a different name in the 'layer' column).\n"
      ],
      "metadata": {
        "id": "fLsywpIVPOUz"
      }
    },
    {
      "cell_type": "code",
      "source": [
        "# Prepare the figure and axis\n",
        "fig, ax = plt.subplots(figsize=(12, 12))  # Adjust the figure size as necessary\n",
        "gdf.boundary.plot(ax=ax, linewidth=0.1, color='gray')  # Draw boundaries with gray lines\n",
        "\n",
        "# Generate a colormap for the unique layers\n",
        "layers = gdf['layer'].unique()\n",
        "colors = plt.cm.tab20c(np.linspace(0, 1, len(layers)))  # Choosing a color map and generating colors\n",
        "color_dict = dict(zip(layers, colors))  # Create a dictionary to map layers to colors\n",
        "\n",
        "# Plot each layer with a different color\n",
        "for layer in layers:\n",
        "    subset = gdf[gdf['layer'] == layer]\n",
        "    subset.plot(ax=ax, label=layer, color=color_dict[layer])\n",
        "\n",
        "# Add a legend to the plot with a title\n",
        "ax.legend(title='Tertiary Unit')\n",
        "\n",
        "# Set titles and labels\n",
        "plt.title('Map of Farms by Tertiary Unit')\n",
        "plt.xlabel('Longitude')\n",
        "plt.ylabel('Latitude')\n",
        "\n",
        "# Show the plot\n",
        "plt.show()\n"
      ],
      "metadata": {
        "id": "yocVGPN5M60y"
      },
      "execution_count": null,
      "outputs": []
    },
    {
      "cell_type": "markdown",
      "source": [
        "We have information about several farms within each tertiary unit. We want to filter all the farms from one tertiary unit. We will use the following code to find all farms within the **`'FakiMusa6'`** unit as an example:"
      ],
      "metadata": {
        "id": "a59UJlyT323W"
      }
    },
    {
      "cell_type": "code",
      "source": [
        "# Select Polygons in FakiMusa6 field\n",
        "\n",
        "Faki_Musa_farms = results_df[results_df['layer'] == 'FakiMusa6']\n",
        "Faki_Musa_farms"
      ],
      "metadata": {
        "id": "pBo7KulMMHBS"
      },
      "execution_count": null,
      "outputs": []
    },
    {
      "cell_type": "markdown",
      "source": [
        "<div class=\\\"alert alert-success\\\">\n",
        "\n",
        "\n",
        "**Excercise 2**\n",
        "\n",
        "Can you find out how many fields within this tertiary unit are listed in this DataFrame?\n",
        "\n",
        "Note down this answer, you need it in the MOOC quiz!\n",
        "\n",
        "HINT: check out **Exercise 3** of [Notebook 01 Introduction to Pandas and Geopandas](https://github.com/wateraccounting/WaPORMOOC/blob/main/3_Python_for_WaPOR/N01_Intro_Pandas_and_Geopandas.ipynb)\n",
        "\n",
        "</div>"
      ],
      "metadata": {
        "id": "Oput5nYHTozm"
      }
    },
    {
      "cell_type": "code",
      "source": [
        "# extract number of farms in FakiMusa6 tertiary unit\n",
        "\n"
      ],
      "metadata": {
        "id": "o68amsbpVHTs"
      },
      "execution_count": null,
      "outputs": []
    },
    {
      "cell_type": "markdown",
      "source": [
        "\n",
        "\n",
        "---\n",
        "\n"
      ],
      "metadata": {
        "id": "HBlqRVvvFN6K"
      }
    },
    {
      "cell_type": "markdown",
      "source": [
        "## **Step 5 Visualising dekadal AETI time series**\n",
        "If you want to visualise the timeseries of dekadal AETI for each farm, you can run the following three cells, starting with reading the .csv file you created in the previous steps.\n",
        "\n",
        "Investigate the DataFrame, now there are several attributes we do not need for the analyses, so we exclude these columns (uncheck the second line, run the Cell and investigate the DataFrame).\n",
        "\n",
        "The next Code Cell transposes the data, which we need to be able to plot the data.\n"
      ],
      "metadata": {
        "id": "kicqz-aGNx9-"
      }
    },
    {
      "cell_type": "code",
      "source": [
        "df = pd.read_csv(r'AETI_and_Area_per_farm_Wad_Helal.csv',index_col=1)\n",
        "#df = df.iloc[:, 5:] #exclude other columns, keep only time-series data\n",
        "df"
      ],
      "metadata": {
        "id": "bKcGGYxqQlEO"
      },
      "execution_count": null,
      "outputs": []
    },
    {
      "cell_type": "code",
      "source": [
        "df = df.transpose() #transpose dataframe\n",
        "df"
      ],
      "metadata": {
        "id": "tjs5HII0QqvF"
      },
      "execution_count": null,
      "outputs": []
    },
    {
      "cell_type": "markdown",
      "source": [
        "\n",
        "# i) Create timeseries graph\n",
        "\n"
      ],
      "metadata": {
        "id": "0RuSmbuUAe2k"
      }
    },
    {
      "cell_type": "code",
      "source": [
        "df.plot(legend=False);"
      ],
      "metadata": {
        "id": "6Ro0jvv7QwY_"
      },
      "execution_count": null,
      "outputs": []
    },
    {
      "cell_type": "markdown",
      "source": [
        "What is wrong with this graph?\n",
        "\n",
        "<details>\n",
        "  <summary>Answer</summary>\n",
        "\n",
        "* Dates are not in order\n",
        "\n",
        "NOTE:\n",
        "* The following code recognises the first column as date type and then rerunning the script with present the data in the right order\n",
        "* Once you have updated the DataFrame and you rerun earlier scripts, these will now use the updated DataFrame\n",
        "\n",
        "</details>\n",
        "    \n",
        "</div>\n",
        "\n"
      ],
      "metadata": {
        "id": "SQ7bawF8hpBn"
      }
    },
    {
      "cell_type": "code",
      "source": [
        "# convert id in string format to datetime\n",
        "df.index= pd.to_datetime(df.index, format='%Y-%m-%d')\n",
        "df"
      ],
      "metadata": {
        "id": "th53V3EeQ1ED"
      },
      "execution_count": null,
      "outputs": []
    },
    {
      "cell_type": "markdown",
      "source": [
        "For plotting one field you can use the following code:"
      ],
      "metadata": {
        "id": "WRe4-klmjhZ0"
      }
    },
    {
      "cell_type": "code",
      "source": [
        "df[1222].plot()"
      ],
      "metadata": {
        "id": "-28RAogeS4Zz"
      },
      "execution_count": null,
      "outputs": []
    },
    {
      "cell_type": "markdown",
      "source": [
        "To style the graph you can add different elements.\n",
        "\n",
        "Here we can see the default plot for this type of data.\n",
        "A number of elements are missing, for example a title, axis labels and units... The following elements can be added/changed:\n",
        "\n",
        ">The axis labels *ylabel*\n",
        "\n",
        ">The plot title with *title*\n",
        "\n",
        ">The line style\n",
        "\n",
        ">The figure size with *figsize *\n",
        "\n",
        "You can find a reference for the different options [here](https://pandas.pydata.org/docs/reference/api/pandas.DataFrame.plot.html)\n",
        "\n",
        "The y-axis label is a not very clear, can you update it with the right information?  "
      ],
      "metadata": {
        "id": "XyWDp2Ynj0BI"
      }
    },
    {
      "cell_type": "code",
      "source": [
        "df[3202].plot(legend=True, title='Dekadal AETI for Farm 3202')\n",
        "plt.xlabel('Date')\n",
        "plt.ylabel('Value')\n",
        "plt.show()"
      ],
      "metadata": {
        "id": "wBWqV8hSRfNr"
      },
      "execution_count": null,
      "outputs": []
    },
    {
      "cell_type": "markdown",
      "source": [
        "Can you create a plot with all the farms in one tertiary unit eg 'FakiMusa6'?\n",
        "\n",
        "<details>\n",
        "  <summary>HINT</summary>\n",
        "\n",
        "* Create a DataFrame for only farms in 'FakiMusa6' tertiary unit\n",
        "* Then create the plot\n",
        "\n",
        "Can you add a legend?\n",
        "\n",
        "</details>\n",
        "    \n",
        "</div>\n",
        "\n",
        "Share your results in the discussion forum!\n"
      ],
      "metadata": {
        "id": "-GFmD_BtPQRJ"
      }
    },
    {
      "cell_type": "markdown",
      "source": [
        "# ii) Create a scatterplot\n",
        "\n",
        "You may also want to produce scatter plots, or xy plots to compare how the ET of two plots compares. You can do this by changing the style of your plot and defining the x and y variables as shown below.\n"
      ],
      "metadata": {
        "id": "ObOYNmC0oxAe"
      }
    },
    {
      "cell_type": "code",
      "source": [
        "df.plot(x=2202, y=2203, style='.');\n"
      ],
      "metadata": {
        "id": "HO4rIzybPXmQ"
      },
      "execution_count": null,
      "outputs": []
    },
    {
      "cell_type": "markdown",
      "source": [
        "This .plot() call will only work on a dataframe, so if you have data in arrays or lists or if you want to make certain kinds of plots and have better control over your figure you may need to use matplotlib instead.\n",
        "To make a similar plot to that of the scatter above, we can use the scatter function from matplotlib.pyplot (imported as plt in cell 1):"
      ],
      "metadata": {
        "id": "4WW0CWPhPYaf"
      }
    },
    {
      "cell_type": "code",
      "source": [
        "plt.figure(figsize=[5, 5])\n",
        "plt.scatter(df[2202],df[2203]);\n",
        ""
      ],
      "metadata": {
        "id": "fFNbvLcJPYTP"
      },
      "execution_count": null,
      "outputs": []
    },
    {
      "cell_type": "markdown",
      "source": [
        "For such a plot it makes sense for the x and y limits to be harmonizes, to add a grid and to add the 1:1 line, as well as our standards, the labels and a title. To do these things, it can be helpful to have a direct way to interact with the axes, for this we will start with defining a figure and axes\n",
        "\n"
      ],
      "metadata": {
        "id": "5YdX_A__PYLH"
      }
    },
    {
      "cell_type": "code",
      "source": [
        "fig, ax = plt.subplots(figsize=[5, 5])\n",
        "\n",
        "ax.set_ylim([0,80]);\n",
        "ax.set_xlim([0,80]);\n",
        "ax.grid(True)\n",
        "\n",
        "ax.plot([0,80],[0,80],color='grey', linestyle='--')\n",
        "ax.scatter(df[2202],df[2203]);\n",
        "\n",
        "ax.set_ylabel('Plot #2203')\n",
        "ax.set_xlabel('Plot #2202')\n",
        "\n",
        "plt.title('AETI comparison between Plots #2203 and 2202');"
      ],
      "metadata": {
        "id": "iK-vTRB5PYEw"
      },
      "execution_count": null,
      "outputs": []
    },
    {
      "cell_type": "code",
      "source": [
        "# # if you want to delete a folder use the code below.\n",
        "# !rm -rf /content/L3-AETI-D\n",
        "# !rm -rf /content/tifs\n",
        "# !rm -rf /content/L3-AETI-D.zip"
      ],
      "metadata": {
        "id": "TcaZXDFzHEYX"
      },
      "execution_count": null,
      "outputs": []
    }
  ]
}