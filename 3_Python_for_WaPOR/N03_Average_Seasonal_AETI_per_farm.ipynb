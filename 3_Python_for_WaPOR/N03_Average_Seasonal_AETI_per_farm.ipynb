{
  "cells": [
    {
      "cell_type": "markdown",
      "metadata": {
        "id": "PCw42k2hRewU"
      },
      "source": [
        "#**Using Python Libraries for Handling WaPOR Data**\n",
        "\n",
        "[![](https://raw.githubusercontent.com//wateraccounting/WaPORMOOC/main/images/colab-badge.png)](https://colab.research.google.com/github/wateraccounting/WaPORMOOC/blob/main/3_Python_for_WaPOR/N03_Average_Seasonal_AETI_per_farm.ipynb?target=\"_blank\")\n",
        "\n",
        "#Notebook 3: Calculating areal average values using WaPOR data\n",
        "In this Notebook we will show you how to calculate seasonal AETI and dekadal timeseries of AETI for different farms or group of farms (eg tertiary unit).   \n",
        "The steps are:\n",
        "1. Install and load necessary Python Libraries to manage raster files\n",
        "2. Load and visualise seasonal WaPOR AETI created in [Notebook 2 : Temporal data aggregation](https://github.com/wateraccounting/WaPORMOOC/blob/main/3_Python_for_WaPOR/N02_Temporal_Aggregation.ipynb)\n",
        "3. Calculate average seasonal AETI for each farm and calculate statistics\n",
        "4. Calculate zonal statistics for tertiary unit\n",
        "5. Visualise time series of dekadal AETI per farm\n",
        "\n",
        "Exercises included in the Notebook needed for the MOOC quiz\n",
        "\n",
        "\n",
        "**Data needed (same as for Notebook 02)**:\n",
        "\n",
        "For the exercises of the [MOOC Python for geospatial analyses using WaPOR data](https://ocw.un-ihe.org/course/view.php?id=272) you can use the following data:\n",
        "\n",
        "* Seasonal WaPOR AETI tiff file created in [Notebook 2 Temporal data aggregation](https://github.com/wateraccounting/WaPORMOOC/blob/main/3_Python_for_WaPOR/N02_Temporal_Aggregation.ipynb)\n",
        "\n",
        "* For the farm level analyses we will be using the WH_Fields.geojson file located in the data folder of [WaPORMOOC](https://github.com/wateraccounting/WaPORMOOC)).\n",
        "\n",
        "We will also be using the same WaPOR data as used for [Notebook 2 : Temporal data aggregation](https://github.com/wateraccounting/WaPORMOOC/blob/main/3_Python_for_WaPOR/N02_Temporal_Aggregation.ipynb) for the temporal analyses:  \n",
        "1. **Area**: Wad Helal in the Gezira Irrigation Scheme (you can find the \"Wad_Helal.geojson\" file in the data folder of [WaPORMOOC](https://github.com/wateraccounting/WaPORMOOC)).\n",
        "2. **Type of Data**: AETI\n",
        "3. **Spatial resolution**: Level 3\n",
        "4. **Temporal resolution**: dekadal\n",
        "5. **Start date**: 2022-10-01\n",
        "6. **End date**: 2023-04-30\n",
        "\n",
        " © 2024 IHE Delft Licenced under CC BY SA Creative Commons"
      ]
    },
    {
      "cell_type": "markdown",
      "metadata": {
        "id": "RGYMiFmRFcR2"
      },
      "source": [
        "\n",
        "\n",
        "---\n",
        "\n"
      ]
    },
    {
      "cell_type": "markdown",
      "metadata": {
        "id": "2bDeRCCoW7Ki"
      },
      "source": [
        "### **Step 1 Install and import required python libraries**"
      ]
    },
    {
      "cell_type": "code",
      "execution_count": 1,
      "metadata": {
        "id": "uDpCDTAgRfmD"
      },
      "outputs": [],
      "source": [
        "# Install required packages\n",
        "%%capture\n",
        "!pip install --upgrade xarray  --quiet\n",
        "!pip install --upgrade geopandas --quiet\n",
        "!pip install --upgrade rioxarray --quiet\n",
        "!pip install rasterstats"
      ]
    },
    {
      "cell_type": "code",
      "execution_count": 2,
      "metadata": {
        "id": "Sy_poELISE0O"
      },
      "outputs": [],
      "source": [
        "# Import the required packages\n",
        "from osgeo import gdal\n",
        "import xarray as xr\n",
        "import rioxarray as rioxr\n",
        "import numpy as np\n",
        "import pandas as pd\n",
        "import geopandas as gpd\n",
        "import glob\n",
        "import os\n",
        "import rasterio as rio\n",
        "from rasterio.plot import show\n",
        "import matplotlib.pyplot as plt\n",
        "from rasterstats import zonal_stats\n",
        "import matplotlib.colors as mcolors"
      ]
    },
    {
      "cell_type": "markdown",
      "metadata": {
        "id": "oiJRtv8E5slJ"
      },
      "source": [
        "### **N.B.**\n",
        ">In this notebook we used additional Python Libraries called <font color='steelblue'>**`Xarray`**</font> and <font color='steelblue'>**`rioxarray`**</font>. <font color='steelblue'>**`Xarray`**</font> is a python library which simplifies working with labelled multi-dimension arrays such as stack of rasters and<font color='steelblue'>**`rioxarray`**</font> is an Xarray extension that allows reading and writing a wide variety of geospatial image formats compatible with Geographic Information Systems (GIS). Introducing these libraries is out of the scope of this Notebook, but for **[xarray](https://tutorial.xarray.dev/overview/xarray-in-45-min.html)** and **[rioxarray](https://corteva.github.io/rioxarray/html/getting_started/getting_started.html)** you can find good Notebooks that provide a good introduction about the libraries for a basic understanding."
      ]
    },
    {
      "cell_type": "markdown",
      "metadata": {
        "id": "qjn7oLuQFhAz"
      },
      "source": [
        "\n",
        "\n",
        "---\n",
        "\n"
      ]
    },
    {
      "cell_type": "markdown",
      "metadata": {
        "id": "b3A1fwh1XYlv"
      },
      "source": [
        "## **Step 2 - Load and visualise seasonal WaPOR AETI**\n",
        "\n",
        "We will now upload the Seasonal WaPOR AETI file you created  in [Notebook 2 : Temporal data aggregation](https://github.com/wateraccounting/WaPORMOOC/blob/main/3_Python_for_WaPOR/N02_Temporal_Aggregation.ipynb). This file as a .tif extension.\n",
        "\n",
        "Execute the command below, click the `Choose Files` button, navigate to where you have saved the .tif file in your local drive and select the file."
      ]
    },
    {
      "cell_type": "code",
      "execution_count": null,
      "metadata": {
        "id": "IIiJJMq5SJKk"
      },
      "outputs": [],
      "source": [
        "#To upload file.\n",
        "from google.colab import files\n",
        "uploaded = files.upload()"
      ]
    },
    {
      "cell_type": "markdown",
      "metadata": {
        "id": "okHVboUU9_Ej"
      },
      "source": [
        "The following script displays the data read using 'rioxarray' and plotted using the `matplotlib` Libary"
      ]
    },
    {
      "cell_type": "code",
      "execution_count": null,
      "metadata": {
        "id": "6sYZUUdN_nPv"
      },
      "outputs": [],
      "source": [
        "seasonal_AETI = '/content/Wad_Helal_seasonal_AETI.tif'      # Path to seasonal file\n",
        "seasonal = rioxr.open_rasterio(seasonal_AETI)             # open the raster file\n",
        "seasonal.plot()                                         # Display the raster file\n",
        "\n"
      ]
    },
    {
      "cell_type": "markdown",
      "metadata": {
        "id": "RAQtg5G-B4N6"
      },
      "source": [
        "You can see that the projection of the map is off, but the unit is correct. Another way is to read the file using 'rasterio'. The heading of the map is also generic. An alternative way to plot the map is shown below.  "
      ]
    },
    {
      "cell_type": "code",
      "execution_count": null,
      "metadata": {
        "id": "2ePCF6eFB4o_"
      },
      "outputs": [],
      "source": [
        "with rio.open(seasonal_AETI) as seasonal:                        # Open the raster file\n",
        "    fig, ax = plt.subplots(figsize=(10, 10))                # Create a matplotlib figure and axis object with a specified size\n",
        "    show(seasonal, ax=ax, title='Seasonal AETI')                 # Use rasterio's show function to display the raster data on the axes\n",
        "    plt.show()                                              # Display the plot"
      ]
    },
    {
      "cell_type": "markdown",
      "metadata": {
        "id": "2W1jozW7DUxF"
      },
      "source": [
        "To add more elements to the map you can adapt the script below. Try to change the colors used for the map (change the 'cmap' variable). For more information check [here](https://www.analyticsvidhya.com/blog/2020/09/colormaps-matplotlib/)\n",
        "\n"
      ]
    },
    {
      "cell_type": "code",
      "execution_count": null,
      "metadata": {
        "id": "GxgP6P_nETei"
      },
      "outputs": [],
      "source": [
        "seasonal = rio.open(seasonal_AETI)\n",
        "spatial_extent = (seasonal.bounds.left, seasonal.bounds.right, seasonal.bounds.bottom, seasonal.bounds.top)\n",
        "\n",
        "# Read the first band\n",
        "data = seasonal.read(1)\n",
        "\n",
        "# Plotting\n",
        "plt.figure(figsize=(12, 8))\n",
        "plt.imshow(data, cmap='jet_r', vmin=np.nanmin(data), vmax=np.nanmax(data), extent=spatial_extent)\n",
        "plt.colorbar(shrink=0.75, label='AETI [mm/season]')\n",
        "plt.xlabel('Longitude [m]', fontsize=14)\n",
        "plt.ylabel('Latitude [m]', fontsize=14)\n",
        "plt.title('AETI [mm/season]', fontsize=16)\n",
        "plt.show()"
      ]
    },
    {
      "cell_type": "markdown",
      "metadata": {
        "id": "t1EMmfVEFm1U"
      },
      "source": [
        "\n",
        "\n",
        "---\n",
        "\n"
      ]
    },
    {
      "cell_type": "markdown",
      "metadata": {
        "id": "6AvOUgbR2iBt"
      },
      "source": [
        "## **Step 3 - Calculate average seasonal AETI for each farm and calculate statistics**"
      ]
    },
    {
      "cell_type": "markdown",
      "metadata": {
        "id": "T80UmhfL2oq5"
      },
      "source": [
        "Upload and read the area of interest. In this case the WH_Field.shp file that contains information about 214 individual fields within the Wad Helal irrigation block that cropped Wheat in the 2022/2023 winter season.\n",
        "\n",
        "**NOTE:**\n",
        "\n",
        "The file for the farms in this script is a .shp file. Create a .shp file from the geojson file in QGIS first. Dont forget to upload all dependencies in the same folder!\n",
        "\n"
      ]
    },
    {
      "cell_type": "code",
      "execution_count": 11,
      "metadata": {
        "id": "ntDU6TUKFUN3"
      },
      "outputs": [],
      "source": [
        "shapefile_path = '/content/WH_fields.shp'\n"
      ]
    },
    {
      "cell_type": "code",
      "execution_count": null,
      "metadata": {
        "id": "5TqWXFQKFsEh"
      },
      "outputs": [],
      "source": [
        "gdf = gpd.read_file(shapefile_path)\n",
        "# Plotting the fields\n",
        "gdf.plot()\n",
        "gdf"
      ]
    },
    {
      "cell_type": "markdown",
      "metadata": {
        "id": "_7K2IOFv5XRH"
      },
      "source": [
        "Now we are adding the **mean** seasonal AETI for each of these farms."
      ]
    },
    {
      "cell_type": "code",
      "execution_count": null,
      "metadata": {
        "id": "MQlEjAWt2v8m"
      },
      "outputs": [],
      "source": [
        "# Convert CRS to EPSG:32636 if necessary\n",
        "if gdf.crs != 'epsg:32636':\n",
        "    gdf = gdf.to_crs(epsg=32636)\n",
        "\n",
        "# filter out empty or null geometries\n",
        "gdf = gdf[~(gdf['geometry'].is_empty | gdf['geometry'].isna())]\n",
        "\n",
        "# Calculate zonal statistics for mean\n",
        "gdf[\"mean_AETI\"] = pd.DataFrame(\n",
        "            zonal_stats(\n",
        "                vectors=gdf,\n",
        "                raster=seasonal_AETI,\n",
        "                nodata=np.nan,\n",
        "                all_touched=False\n",
        "            )\n",
        "        )[\"mean\"]\n",
        "gdf"
      ]
    },
    {
      "cell_type": "markdown",
      "metadata": {
        "id": "eGgmxMxvOoiC"
      },
      "source": [
        "We want to get the area for each of these farms and add this to the DataFrame.\n"
      ]
    },
    {
      "cell_type": "code",
      "execution_count": null,
      "metadata": {
        "id": "bZSsArXN46oO"
      },
      "outputs": [],
      "source": [
        "# Calculate area of each polygon in square meters\n",
        "gdf['Area_sqm'] = gdf.area\n",
        "\n",
        "# Initialize results DataFrame\n",
        "gdf = gdf.copy()\n",
        "gdf"
      ]
    },
    {
      "cell_type": "markdown",
      "metadata": {
        "id": "9CyG5DZtBmLr"
      },
      "source": [
        "<div class=\"alert alert-success\">\n",
        "\n",
        "**Exercise 1**\n",
        "\n",
        "Which field (note Field ID) has the highest mean seasonal AETI and what is the amount in mm/season (round to integer - no decimal place)?\n",
        "\n",
        "In which **tertiary unit** is the largest field located and what is the area in ha (with one decimal)?\n",
        "\n",
        "<details>\n",
        "  <summary>HINT</summary>\n",
        "\n",
        "* Consider sorting the DataFrame\n",
        "</details>\n",
        "    \n",
        "Note down the answers, you need them for the MOOC quiz!!\n",
        "\n",
        "</div>"
      ]
    },
    {
      "cell_type": "markdown",
      "metadata": {
        "id": "telpCSQ0Bl9T"
      },
      "source": [
        "Why do the farms in BahiEddin21 have NaN values for the seasonal AETI?\n",
        "\n",
        "<details>\n",
        "  <summary>Answer</summary>\n",
        "\n",
        "* There is no WaPOR data for this tertiary unit, so it didnt calculate seasonal AETI\n",
        "</details>\n",
        "    \n",
        "</div>"
      ]
    },
    {
      "cell_type": "markdown",
      "metadata": {
        "id": "mVD3sThS4mNJ"
      },
      "source": [
        "We now want to get the timeseries statistics\n",
        "\n",
        "**NOTE** Upload the WaPOR AETI dekadal data which you also used in Notebook 02. Dont forget to unzip the file!"
      ]
    },
    {
      "cell_type": "code",
      "execution_count": null,
      "metadata": {
        "id": "dv9sawq4A_6l"
      },
      "outputs": [],
      "source": [
        "#upload .zipfile\n",
        "\n",
        "\n",
        "#unzip file\n"
      ]
    },
    {
      "cell_type": "code",
      "execution_count": 23,
      "metadata": {
        "id": "sE4tF-BP4nMI"
      },
      "outputs": [],
      "source": [
        "shapefile_path = '/content/WH_fields.shp'\n",
        "folder_path = '/content/content/output/L3-AETI-D'"
      ]
    },
    {
      "cell_type": "code",
      "execution_count": null,
      "metadata": {
        "id": "n2lPfjoVKCiI"
      },
      "outputs": [],
      "source": [
        "def extract_identifier_from_filename(filename):   ## make sure to identify which part of the file name has date\n",
        "    parts = filename.split('_')\n",
        "    date_part = parts[6]\n",
        "    return date_part.rstrip('.tif')\n",
        "\n",
        "# Convert CRS to EPSG:32636 if necessary\n",
        "if gdf.crs != 'epsg:32636':\n",
        "    gdf = gdf.to_crs(epsg=32636)\n",
        "\n",
        "# Calculate area of each polygon in square meters\n",
        "gdf['Area_sqm'] = gdf.area\n",
        "\n",
        "# Initialize results DataFrame\n",
        "results_gdf = gdf.copy()\n",
        "\n",
        "# Find all TIFF files in the folder\n",
        "tif_files = glob.glob(os.path.join(folder_path, \"*.tif\"))\n",
        "print(f\"Found {len(tif_files)} TIFF files to process.\")\n",
        "\n",
        "# Process each TIFF file\n",
        "for tif_file in tif_files:\n",
        "    # Extract identifier from filename\n",
        "    identifier = extract_identifier_from_filename(os.path.basename(tif_file))\n",
        "\n",
        "    # Calculate zonal statistics for mean\n",
        "    stats = zonal_stats(gdf, tif_file, stats=\"mean\", nodata=-9999)  # Assuming -9999 as NoData value; adjust as necessary\n",
        "\n",
        "    # Extract mean values and assign to new column in DataFrame\n",
        "    means = [stat['mean'] if stat else None for stat in stats]\n",
        "    results_gdf[identifier] = means\n",
        "\n",
        "# Remove the geometry column from the results DataFrame for easier data handling/viewing\n",
        "results_df = results_gdf.drop(columns=['geometry'])\n",
        "\n",
        "# Now the DataFrame 'results_df' holds the results without the geometry column and includes area calculations\n",
        "print(\"Mean zonal statistics by date/identifier are stored in the DataFrame, including area calculations.\")\n"
      ]
    },
    {
      "cell_type": "code",
      "execution_count": null,
      "metadata": {
        "id": "l4ma42PjKJWO"
      },
      "outputs": [],
      "source": [
        "results_df"
      ]
    },
    {
      "cell_type": "markdown",
      "metadata": {
        "id": "5fewIQSyjaPm"
      },
      "source": [
        "\n",
        "You can interrogate the results using the Panda functions introduced in [Notebook 01 Introduction to Pandas and Geopandas](https://github.com/wateraccounting/WaPORMOOC/blob/main/3_Python_for_WaPOR/N01_Intro_Pandas_and_Geopandas.ipynb) \n",
        "\n",
        "For example to find the max, min and mean of the seasonal AETI you can run the following script:\n",
        "\n",
        "**HINT** Change the attribute name to the column you want to obtain the maximum value for\n"
      ]
    },
    {
      "cell_type": "code",
      "execution_count": null,
      "metadata": {},
      "outputs": [],
      "source": [
        "results_df['mean_AETI'].max(), results_df['mean_AETI'].min(), results_df['mean_AETI'].mean()"
      ]
    },
    {
      "cell_type": "markdown",
      "metadata": {},
      "source": [
        "An alternative way to do this is using the following function:\n",
        "\n",
        "```python\n",
        "    df.iloc[:,1:] # Selects the column of the dataframe starting from the second column\n",
        "    .agg(['min', 'max', 'mean']) # aggregate function to calculate the min, max and mean of the selected dataframe columns\n",
        "    .round() # function to round the values of the columns\n",
        "    .astype(int) # to change the data type of the columns to integer\n",
        "\n",
        "```"
      ]
    },
    {
      "cell_type": "code",
      "execution_count": null,
      "metadata": {
        "id": "KBRzX2XkKbIb"
      },
      "outputs": [],
      "source": [
        "# applying the above function to get minimum, maximum and mean of the AETI and the area\n",
        "mm = results_df.iloc[:,4].agg(['min', 'max', 'mean']).round().astype(int)\n",
        "mm"
      ]
    },
    {
      "cell_type": "markdown",
      "metadata": {
        "id": "ZATq-rLiK25J"
      },
      "source": [
        "Saving the dataframes computed above to .csv and download them to local folder:"
      ]
    },
    {
      "cell_type": "code",
      "execution_count": null,
      "metadata": {
        "id": "2WqyxsRNLQaa"
      },
      "outputs": [],
      "source": [
        "# for dataframe df\n",
        "file_name = f'AETI_and_Area_per_farm_Wad_Helal.csv'\n",
        "results_df.to_csv(file_name)\n",
        "\n",
        "#download the csv file\n",
        "files.download(file_name)\n"
      ]
    },
    {
      "cell_type": "markdown",
      "metadata": {
        "id": "m69VBTyWKa3r"
      },
      "source": [
        "## **Step 4: Calculate zonal statistics for tertiary unit**:\n",
        "\n",
        ">Do the zonal statistics for tertiary unit **`'FakiMusa6`** and get the minimum, maximum and mean of the seasonal average AETI and the area of each farm.\n",
        "\n",
        ">Note down the values (rounded to the integer values), you will need them for the MOOC quiz.\n",
        "\n",
        "\n",
        "<details>\n",
        "  <summary>HINT</summary>\n",
        "\n",
        ">Select the field **`'FakiMusa6'`** from the GeoDataFrame and run the last three cells.\n",
        "\n",
        "</details>\n",
        "    \n"
      ]
    },
    {
      "cell_type": "markdown",
      "metadata": {
        "id": "zqCAOnrV3KAT"
      },
      "source": [
        "As you can see from the DataFrame there are different categories in the 'layer' column, these represent the different tertiary units in the Wad Helal irrigation block. You can get the name of the tertiary units using the following code:"
      ]
    },
    {
      "cell_type": "code",
      "execution_count": null,
      "metadata": {
        "id": "C33Fhbxu1pS3"
      },
      "outputs": [],
      "source": [
        "# get the name of the fields\n",
        "np.unique(results_df['layer'])"
      ]
    },
    {
      "cell_type": "markdown",
      "metadata": {
        "id": "fLsywpIVPOUz"
      },
      "source": [
        "We can visualise the map of the farms with a differentiation between the different tertiary units (in the DataFrame, each tertiary unit has a different name in the 'layer' column).\n"
      ]
    },
    {
      "cell_type": "code",
      "execution_count": null,
      "metadata": {
        "id": "yocVGPN5M60y"
      },
      "outputs": [],
      "source": [
        "# Prepare the figure and axis\n",
        "fig, ax = plt.subplots(figsize=(12, 12))  # Adjust the figure size as necessary\n",
        "gdf.boundary.plot(ax=ax, linewidth=0.1, color='gray')  # Draw boundaries with gray lines\n",
        "\n",
        "# Generate a colormap for the unique layers\n",
        "layers = gdf['layer'].unique()\n",
        "colors = plt.cm.tab20c(np.linspace(0, 1, len(layers)))  # Choosing a color map and generating colors\n",
        "color_dict = dict(zip(layers, colors))  # Create a dictionary to map layers to colors\n",
        "\n",
        "# Plot each layer with a different color\n",
        "for layer in layers:\n",
        "    subset = gdf[gdf['layer'] == layer]\n",
        "    subset.plot(ax=ax, label=layer, color=color_dict[layer])\n",
        "\n",
        "# Add a legend to the plot with a title\n",
        "ax.legend(title='Tertiary Unit')\n",
        "\n",
        "# Set titles and labels\n",
        "plt.title('Map of Farms by Tertiary Unit')\n",
        "plt.xlabel('Longitude')\n",
        "plt.ylabel('Latitude')\n",
        "\n",
        "# Show the plot\n",
        "plt.show()\n"
      ]
    },
    {
      "cell_type": "markdown",
      "metadata": {
        "id": "a59UJlyT323W"
      },
      "source": [
        "We have information about several farms within each tertiary unit. We want to filter all the farms from one tertiary unit. We will use the following code to find all farms within the **`'FakiMusa6'`** unit as an example:"
      ]
    },
    {
      "cell_type": "code",
      "execution_count": null,
      "metadata": {
        "id": "pBo7KulMMHBS"
      },
      "outputs": [],
      "source": [
        "# Select Polygons in FakiMusa6 field\n",
        "\n",
        "Faki_Musa_farms = results_df[results_df['layer'] == 'FakiMusa6']\n",
        "Faki_Musa_farms"
      ]
    },
    {
      "cell_type": "markdown",
      "metadata": {
        "id": "Oput5nYHTozm"
      },
      "source": [
        "<div class=\"alert alert-success\">\n",
        "\n",
        "**Excercise 2**\n",
        "\n",
        "Can you find out how many fields within this tertiary unit are listed in this DataFrame?\n",
        "\n",
        "Note down this answer, you need it in the MOOC quiz!\n",
        "\n",
        "HINT: check out **Exercise 3** of [Notebook 01 Introduction to Pandas and Geopandas](https://github.com/wateraccounting/WaPORMOOC/blob/main/3_Python_for_WaPOR/N01_Intro_Pandas_and_Geopandas.ipynb)\n",
        "\n",
        "\n",
        "</div>"
      ]
    },
    {
      "cell_type": "code",
      "execution_count": null,
      "metadata": {
        "id": "o68amsbpVHTs"
      },
      "outputs": [],
      "source": [
        "# extract number of farms in FakiMusa6 tertiary unit\n",
        "\n"
      ]
    },
    {
      "cell_type": "markdown",
      "metadata": {
        "id": "HBlqRVvvFN6K"
      },
      "source": [
        "\n",
        "\n",
        "---\n",
        "\n"
      ]
    },
    {
      "cell_type": "markdown",
      "metadata": {
        "id": "kicqz-aGNx9-"
      },
      "source": [
        "## **Step 5 Visualising dekadal AETI time series**\n",
        "If you want to visualise the timeseries of dekadal AETI for each farm, you can run the following three cells, starting with reading the .csv file you created in the previous steps.\n",
        "\n",
        "Investigate the DataFrame, now there are several attributes we do not need for the analyses, so we exclude these columns (uncheck the second line, run the Cell and investigate the DataFrame).\n",
        "\n",
        "The next Code Cell transposes the data, which we need to be able to plot the data.\n"
      ]
    },
    {
      "cell_type": "code",
      "execution_count": null,
      "metadata": {
        "id": "bKcGGYxqQlEO"
      },
      "outputs": [],
      "source": [
        "df = pd.read_csv(r'AETI_and_Area_per_farm_Wad_Helal.csv',index_col=1)\n",
        "#df = df.iloc[:, 5:] #exclude other columns, keep only time-series data\n",
        "df"
      ]
    },
    {
      "cell_type": "code",
      "execution_count": null,
      "metadata": {
        "id": "tjs5HII0QqvF"
      },
      "outputs": [],
      "source": [
        "df = df.transpose() #transpose dataframe\n",
        "df"
      ]
    },
    {
      "cell_type": "markdown",
      "metadata": {
        "id": "0RuSmbuUAe2k"
      },
      "source": [
        "\n",
        "# i) Create timeseries graph\n",
        "\n"
      ]
    },
    {
      "cell_type": "code",
      "execution_count": null,
      "metadata": {
        "id": "6Ro0jvv7QwY_"
      },
      "outputs": [],
      "source": [
        "df.plot(legend=False);"
      ]
    },
    {
      "cell_type": "markdown",
      "metadata": {
        "id": "SQ7bawF8hpBn"
      },
      "source": [
        "What is wrong with this graph?\n",
        "\n",
        "<details>\n",
        "  <summary>Answer</summary>\n",
        "\n",
        "* Dates are not in order\n",
        "\n",
        "NOTE:\n",
        "* The following code recognises the first column as date type and then rerunning the script with present the data in the right order\n",
        "* Once you have updated the DataFrame and you rerun earlier scripts, these will now use the updated DataFrame\n",
        "\n",
        "</details>\n",
        "    \n",
        "</div>\n",
        "\n"
      ]
    },
    {
      "cell_type": "code",
      "execution_count": null,
      "metadata": {
        "id": "th53V3EeQ1ED"
      },
      "outputs": [],
      "source": [
        "# convert id in string format to datetime\n",
        "df.index= pd.to_datetime(df.index, format='%Y-%m-%d')\n",
        "df"
      ]
    },
    {
      "cell_type": "markdown",
      "metadata": {
        "id": "WRe4-klmjhZ0"
      },
      "source": [
        "For plotting one field you can use the following code:"
      ]
    },
    {
      "cell_type": "code",
      "execution_count": null,
      "metadata": {
        "id": "-28RAogeS4Zz"
      },
      "outputs": [],
      "source": [
        "df[1222].plot()"
      ]
    },
    {
      "cell_type": "markdown",
      "metadata": {
        "id": "XyWDp2Ynj0BI"
      },
      "source": [
        "To style the graph you can add different elements.\n",
        "\n",
        "Here we can see the default plot for this type of data.\n",
        "A number of elements are missing, for example a title, axis labels and units... The following elements can be added/changed:\n",
        "\n",
        ">The axis labels *ylabel*\n",
        "\n",
        ">The plot title with *title*\n",
        "\n",
        ">The line style\n",
        "\n",
        ">The figure size with *figsize *\n",
        "\n",
        "You can find a reference for the different options [here](https://pandas.pydata.org/docs/reference/api/pandas.DataFrame.plot.html)\n",
        "\n",
        "The y-axis label is a not very clear, can you update it with the right information?  "
      ]
    },
    {
      "cell_type": "code",
      "execution_count": null,
      "metadata": {
        "id": "wBWqV8hSRfNr"
      },
      "outputs": [],
      "source": [
        "df[3202].plot(legend=True, title='Dekadal AETI for Farm 3202')\n",
        "plt.xlabel('Date')\n",
        "plt.ylabel('Value')\n",
        "plt.show()"
      ]
    },
    {
      "cell_type": "markdown",
      "metadata": {
        "id": "-GFmD_BtPQRJ"
      },
      "source": [
        "Can you create a plot with all the farms in one tertiary unit eg 'FakiMusa6'?\n",
        "\n",
        "<details>\n",
        "  <summary>HINT</summary>\n",
        "\n",
        "* Create a DataFrame for only farms in 'FakiMusa6' tertiary unit\n",
        "* Then create the plot\n",
        "\n",
        "Can you add a legend?\n",
        "\n",
        "</details>\n",
        "    \n",
        "</div>\n",
        "\n",
        "Share your results in the discussion forum!\n"
      ]
    },
    {
      "cell_type": "markdown",
      "metadata": {
        "id": "ObOYNmC0oxAe"
      },
      "source": [
        "# ii) Create a scatterplot\n",
        "\n",
        "You may also want to produce scatter plots, or xy plots to compare how the ET of two plots compares. You can do this by changing the style of your plot and defining the x and y variables as shown below.\n"
      ]
    },
    {
      "cell_type": "code",
      "execution_count": null,
      "metadata": {
        "id": "HO4rIzybPXmQ"
      },
      "outputs": [],
      "source": [
        "df.plot(x=2202, y=2203, style='.');\n"
      ]
    },
    {
      "cell_type": "markdown",
      "metadata": {
        "id": "4WW0CWPhPYaf"
      },
      "source": [
        "This .plot() call will only work on a dataframe, so if you have data in arrays or lists or if you want to make certain kinds of plots and have better control over your figure you may need to use matplotlib instead.\n",
        "To make a similar plot to that of the scatter above, we can use the scatter function from matplotlib.pyplot (imported as plt in cell 1):"
      ]
    },
    {
      "cell_type": "code",
      "execution_count": null,
      "metadata": {
        "id": "fFNbvLcJPYTP"
      },
      "outputs": [],
      "source": [
        "plt.figure(figsize=[5, 5])\n",
        "plt.scatter(df[2202],df[2203]);\n"
      ]
    },
    {
      "cell_type": "markdown",
      "metadata": {
        "id": "5YdX_A__PYLH"
      },
      "source": [
        "For such a plot it makes sense for the x and y limits to be harmonizes, to add a grid and to add the 1:1 line, as well as our standards, the labels and a title. To do these things, it can be helpful to have a direct way to interact with the axes, for this we will start with defining a figure and axes\n",
        "\n"
      ]
    },
    {
      "cell_type": "code",
      "execution_count": null,
      "metadata": {
        "id": "iK-vTRB5PYEw"
      },
      "outputs": [],
      "source": [
        "fig, ax = plt.subplots(figsize=[5, 5])\n",
        "\n",
        "ax.set_ylim([0,80]);\n",
        "ax.set_xlim([0,80]);\n",
        "ax.grid(True)\n",
        "\n",
        "ax.plot([0,80],[0,80],color='grey', linestyle='--')\n",
        "ax.scatter(df[2202],df[2203]);\n",
        "\n",
        "ax.set_ylabel('Plot #2203')\n",
        "ax.set_xlabel('Plot #2202')\n",
        "\n",
        "plt.title('AETI comparison between Plots #2203 and 2202');"
      ]
    },
    {
      "cell_type": "code",
      "execution_count": null,
      "metadata": {
        "id": "TcaZXDFzHEYX"
      },
      "outputs": [],
      "source": [
        "# # if you want to delete a folder use the code below.\n",
        "# !rm -rf /content/L3-AETI-D\n",
        "# !rm -rf /content/tifs\n",
        "# !rm -rf /content/L3-AETI-D.zip"
      ]
    }
  ],
  "metadata": {
    "colab": {
      "provenance": []
    },
    "kernelspec": {
      "display_name": "Python 3",
      "name": "python3"
    },
    "language_info": {
      "name": "python"
    }
  },
  "nbformat": 4,
  "nbformat_minor": 0
}
