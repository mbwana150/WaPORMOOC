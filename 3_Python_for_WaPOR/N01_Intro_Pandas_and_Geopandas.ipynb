{
  "cells": [
    {
      "cell_type": "markdown",
      "metadata": {
        "id": "_U_f3R6YKjgK",
        "tags": []
      },
      "source": [
        "#**Using Python Libraries for Handling WaPOR Data**\n",
        "\n",
        "[![](https://raw.githubusercontent.com//wateraccounting/WaPORMOOC/main/images/colab-badge.png)](https://colab.research.google.com/github/wateraccounting/WaPORMOOC/blob/main/3_Python_for_WaPOR/N01_Intro_Pandas_and_Geopandas.ipynb?target=\"_blank\")\n",
        "\n",
        "#Notebook 1: Introduction to Pandas and Geopandas\n",
        "When manipulating WaPOR data two Python Libraries are good starting point, Pandas and GeoPandas. Pandas is a fast, powerful, flexible and easy to use open source data analysis and manipulation tool, whereas GeoPandas is an extension that allows for spatial operations on geometric types. This notebook a brief introduction to the Python Libraries Pandas and GeoPandas. This notebook has been adapted from notebooks created by [DS-python-geospatial](https://github.com/jorisvandenbossche/DS-python-geospatial/tree/main).\n",
        "\n",
        "\n",
        "This notebook contains the following three parts:\n",
        "1. Pandas [(Introduction to tabular data)](https://github.com/jorisvandenbossche/DS-python-geospatial/blob/main/notebooks/01-introduction-tabular-data.ipynb)\n",
        "2. Exercises (answers needed for the [MOOC](https://ocw.un-ihe.org/course/view.php?id=272&section=5) quiz)\n",
        "3. GeoPandas [(Introduction to geospatial vector data in Python)](https://github.com/jorisvandenbossche/DS-python-geospatial/blob/main/notebooks/02-introduction-geospatial-data.ipynb)\n",
        "\n",
        "\n",
        "For this exercise we will be using a spatial dataset from [Natural Earth](https://www.naturalearthdata.com/downloads/10m-cultural-vectors/10m-admin-0-countries/) with information about all the countries in the world. For the section on Pandas we will be using the csv file which is the attribute table of the data. For the section on GeoPandas, we will be using the zip file containing the geospatial data. Both files can be found in the [WaPORMOOC](https://github.com/wateraccounting/WaPORMOOC) github data folder.\n",
        "\n",
        "Other important packages that will be used in the course materials are (with links to notebooks created by [DS-python-geospatial](https://github.com/jorisvandenbossche/DS-python-geospatial/tree/main)):\n",
        "- [Numpy](https://github.com/jorisvandenbossche/DS-python-geospatial/blob/main/notebooks/90_package_numpy.ipynb)\n",
        "- [Xarray](https://github.com/jorisvandenbossche/DS-python-geospatial/blob/main/notebooks/11-xarray-intro.ipynb)\n",
        "- [Rasterio](https://github.com/jorisvandenbossche/DS-python-geospatial/blob/main/notebooks/91_package_rasterio.ipynb)\n",
        "\n",
        "DS-python-geospatial © 2023, Joris Van den Bossche and Stijn Van Hoey (mailto:jorisvandenbossche@gmail.com, mailto:stijnvanhoey@gmail.com). Licensed under CC BY 4.0 Creative Commons"
      ]
    },
    {
      "cell_type": "markdown",
      "metadata": {
        "id": "ptn-ANXhGE0d"
      },
      "source": [
        "\n",
        "\n",
        "---\n",
        "\n"
      ]
    },
    {
      "cell_type": "markdown",
      "metadata": {
        "id": "u2qwSlby6Bby"
      },
      "source": [
        "# **1. Pandas [(Introduction to tabular data)](https://github.com/jorisvandenbossche/DS-python-geospatial/blob/main/notebooks/01-introduction-tabular-data.ipynb)**"
      ]
    },
    {
      "cell_type": "markdown",
      "metadata": {
        "id": "hQ-CAa7jKjgN"
      },
      "source": [
        "Pandas is a very important Python package for data analysis and visualization. It has become the default package for data manipulation exploratory data analysis data cleaning. Its ability to read and write many data formats makes it a versatile tool for data analysis.\n",
        "\n",
        "A huge amount of data is saved in different formats including comma separated values (CSV), text, spreadsheet and many more. These data are in the form of rows and columns. Pandas is a Python package for manipulating tabular data.\n",
        "\n",
        "Pandas can be used for:\n",
        "*   Importing datasets from CSV, databases, spreadsheets files, and more.\n",
        "*   Time series analysis\n",
        "*   Calculating summary statistics, correlation between columns and more.\n",
        "*   Visualizing datasets.\n",
        "\n",
        "\n",
        "### Installing Pandas\n",
        "Pandas come with standard Python installation. But it can also be installed using ***`!pip install pandas`*** command.\n",
        "\n",
        "\n"
      ]
    },
    {
      "cell_type": "markdown",
      "metadata": {
        "id": "wYJravmkWWMk"
      },
      "source": [
        "## **Importing data in pandas**\n",
        "\n",
        "Before using pandas, you need to import the package. The following cell imports pandas. When importing pandas, the most common alias for pandas is pd."
      ]
    },
    {
      "cell_type": "code",
      "execution_count": null,
      "metadata": {
        "id": "Q5SXR8FT5tvf"
      },
      "outputs": [],
      "source": [
        "import pandas as pd"
      ]
    },
    {
      "cell_type": "markdown",
      "metadata": {
        "id": "rPXfzYXJC7vr"
      },
      "source": [
        "Let's start with importing some actual data. We will read a file with information about different countries (countries.csv). The file is located in a folder called ['data'](https://github.com/wateraccounting/WaPORMOOC/tree/main/data) in the WaPORMOOC repository. Start with uploading the file:"
      ]
    },
    {
      "cell_type": "code",
      "execution_count": null,
      "metadata": {
        "id": "Tx-YjUQjCp1v"
      },
      "outputs": [],
      "source": [
        "#To upload file.\n",
        "from google.colab import files\n",
        "uploaded = files.upload()"
      ]
    },
    {
      "cell_type": "code",
      "execution_count": null,
      "metadata": {
        "id": "nYHuQbE-62ID"
      },
      "outputs": [],
      "source": [
        "countries = pd.read_csv(\"/content/countries.csv\")\n",
        "\n",
        "countries"
      ]
    },
    {
      "cell_type": "markdown",
      "metadata": {
        "id": "T7L2pAjw5B6Q"
      },
      "source": [
        "The object created here (countries) is a **DataFrame**.\n",
        "A `DataFrame` is a 2-dimensional, **tabular data structure** comprised of rows and columns. It is similar to a spreadsheet, a database (SQL) table or the data.frame in R.\n",
        "\n",
        "A DataFrame can store data of different types (including characters, integers, floating point values, categorical data and more) in columns. In pandas, we can check the data types of the columns with the `dtypes` attribute:\n",
        "\n",
        "![](https://surfdrive.surf.nl/files/index.php/s/Wie88hfXHsOmM86/download?path=%2F&files=dataframe.png)"
      ]
    },
    {
      "cell_type": "code",
      "execution_count": null,
      "metadata": {
        "id": "7CV3UyHW5htN"
      },
      "outputs": [],
      "source": [
        "type(countries)"
      ]
    },
    {
      "cell_type": "code",
      "execution_count": null,
      "metadata": {
        "id": "5kWWds2z7bvu"
      },
      "outputs": [],
      "source": [
        "countries.dtypes"
      ]
    },
    {
      "cell_type": "markdown",
      "metadata": {
        "id": "_F57JUMB7nI3"
      },
      "source": [
        "### Each column in a `DataFrame` is a `Series`\n",
        "When selecting a single column of a pandas `DataFrame`, the result is a pandas `Series`, a 1-dimensional data structure.\n",
        "To select the column, use the column label in between square brackets `[]`."
      ]
    },
    {
      "cell_type": "code",
      "execution_count": null,
      "metadata": {
        "id": "eyxhp7K5735C"
      },
      "outputs": [],
      "source": [
        "countries['POP_EST']"
      ]
    },
    {
      "cell_type": "code",
      "execution_count": null,
      "metadata": {
        "id": "UzUau0Vb8BrQ"
      },
      "outputs": [],
      "source": [
        "s = countries['POP_EST']\n",
        "type(s)"
      ]
    },
    {
      "cell_type": "markdown",
      "metadata": {
        "id": "IybZmRyt74Vw"
      },
      "source": [
        "### Pandas objects have attributes and methods\n",
        "Pandas provides a lot of functionalities for the DataFrame and Series. The `.dtypes` shown above is an *attribute* of the DataFrame. In addition, there are also functions that can be called on a DataFrame or Series, i.e. *methods*. As methods are functions, do not forget to use parentheses `()` to call them.\n",
        "A few examples that can help exploring the data:"
      ]
    },
    {
      "cell_type": "code",
      "execution_count": null,
      "metadata": {
        "id": "QZmmumxS8OOT"
      },
      "outputs": [],
      "source": [
        "countries.head() # Top 5 rows"
      ]
    },
    {
      "cell_type": "code",
      "execution_count": null,
      "metadata": {
        "id": "FB6AJ35e8JDn"
      },
      "outputs": [],
      "source": [
        "countries.tail() # Bottom 5 rows"
      ]
    },
    {
      "cell_type": "markdown",
      "metadata": {
        "id": "3cCtgZcU7x2y"
      },
      "source": [
        "The ``describe`` method computes summary statistics for each column:"
      ]
    },
    {
      "cell_type": "code",
      "execution_count": null,
      "metadata": {
        "id": "ZhKGczdu8U1W"
      },
      "outputs": [],
      "source": [
        "countries['POP_EST'].describe()"
      ]
    },
    {
      "cell_type": "markdown",
      "metadata": {
        "id": "qS8wd0Tq8dm2"
      },
      "source": [
        "**Sort**ing your data **by** a specific column is another important first-check:"
      ]
    },
    {
      "cell_type": "code",
      "execution_count": null,
      "metadata": {
        "id": "3Jy9OF_Z8cdG"
      },
      "outputs": [],
      "source": [
        "countries.sort_values(by='POP_EST', ascending=False)"
      ]
    },
    {
      "cell_type": "markdown",
      "metadata": {
        "id": "_k1mdU3R9Y_K"
      },
      "source": [
        "## **Basic operations on Series and DataFrames**\n",
        "\n"
      ]
    },
    {
      "cell_type": "markdown",
      "metadata": {
        "id": "LIMAHgb2-a61"
      },
      "source": [
        "### **Elementwise-operations**\n",
        "\n",
        "The typical arithmetic (+, -, \\*, /) and comparison (==, >, <, ...) operations work *element-wise*.\n",
        "\n",
        "With as scalar:"
      ]
    },
    {
      "cell_type": "code",
      "execution_count": null,
      "metadata": {
        "id": "muoiEJg_-dFQ"
      },
      "outputs": [],
      "source": [
        "population = countries['POP_EST'].head()\n",
        "population"
      ]
    },
    {
      "cell_type": "code",
      "execution_count": null,
      "metadata": {
        "id": "PF_XnZY2-h_F"
      },
      "outputs": [],
      "source": [
        "population / 1000"
      ]
    },
    {
      "cell_type": "code",
      "execution_count": null,
      "metadata": {
        "id": "q0hJEB86-kji"
      },
      "outputs": [],
      "source": [
        "population > 1_000_000"
      ]
    },
    {
      "cell_type": "markdown",
      "metadata": {
        "id": "KsaO-EQL-sDC"
      },
      "source": [
        "With two Series objects:"
      ]
    },
    {
      "cell_type": "code",
      "execution_count": null,
      "metadata": {
        "id": "rQ8qUAnH-kba"
      },
      "outputs": [],
      "source": [
        "countries['GDP_MD'] / countries['POP_EST']"
      ]
    },
    {
      "cell_type": "markdown",
      "metadata": {
        "id": "u_xSzq06-z_3"
      },
      "source": [
        "### **Aggregations (reductions)**\n",
        "\n",
        "Pandas provides a large set of **summary** functions that operate on different kinds of pandas objects (DataFrames, Series, Index) and produce a single value. When applied to a DataFrame, the result is returned as a pandas Series (one value for each column).\n",
        "\n",
        "For example, the average population number is computes as follows:"
      ]
    },
    {
      "cell_type": "code",
      "execution_count": null,
      "metadata": {
        "id": "oRxOl9KS-2XJ"
      },
      "outputs": [],
      "source": [
        "population.mean()"
      ]
    },
    {
      "cell_type": "markdown",
      "metadata": {
        "id": "mQ8Qggvd-9B3"
      },
      "source": [
        "The maximum GDP:"
      ]
    },
    {
      "cell_type": "code",
      "execution_count": null,
      "metadata": {
        "id": "rj2DJO62--Y0"
      },
      "outputs": [],
      "source": [
        "countries['GDP_MD'].max()"
      ]
    },
    {
      "cell_type": "markdown",
      "metadata": {
        "id": "b9Q5BISc_BZd"
      },
      "source": [
        "For dataframes, only the numeric columns are included in the result:"
      ]
    },
    {
      "cell_type": "code",
      "execution_count": null,
      "metadata": {
        "id": "8lJMxIeD_Eh2"
      },
      "outputs": [],
      "source": [
        "countries.median(numeric_only=True)"
      ]
    },
    {
      "cell_type": "markdown",
      "metadata": {
        "id": "S8dIJ_4g_KF_"
      },
      "source": [
        "### **Adding new columns**\n",
        "\n",
        "We can add a new column to a DataFrame with similar syntax as selecting a column: create a new column by assigning the output to the DataFrame with a new column name in between the `[]`.\n",
        "\n",
        "For example, to add the GDP per capita calculated above, we can do:"
      ]
    },
    {
      "cell_type": "code",
      "execution_count": null,
      "metadata": {
        "id": "roNoaAj7_LeJ"
      },
      "outputs": [],
      "source": [
        "countries['GDP_CAP'] = countries['GDP_MD'] / countries['POP_EST']"
      ]
    },
    {
      "cell_type": "code",
      "execution_count": null,
      "metadata": {
        "id": "a-ninhzb_NbD"
      },
      "outputs": [],
      "source": [
        "countries.head()"
      ]
    },
    {
      "cell_type": "markdown",
      "metadata": {
        "id": "-kNG0g4O_bdx"
      },
      "source": [
        "## **Indexing: selecting a subset of the dataframe**\n",
        "\n",
        "The pandas package offers several ways to subset, filter, and isolate data in your DataFrames.\n",
        "\n",
        "### **Subset variables (columns)**\n",
        "\n",
        "You can select a single column using a square bracket [ ] with a column name in it. The output is a pandas Series object. A pandas Series is a one-dimensional array containing data of any type, including integer, float, string, boolean, python objects, etc.\n",
        "\n",
        "Selecting a **single column**:"
      ]
    },
    {
      "cell_type": "code",
      "execution_count": null,
      "metadata": {
        "id": "igKm_X22_c0W"
      },
      "outputs": [],
      "source": [
        "countries['POP_EST']"
      ]
    },
    {
      "cell_type": "markdown",
      "metadata": {
        "id": "LEA-ArwS_nxi"
      },
      "source": [
        "Remember that the same syntax can also be used to *add* a new columns: `df['new'] = ...`.\n",
        "\n",
        "We can also select **multiple columns** by passing a list of column names into `[]`: Here, square brackets are used in two different ways. The outer square brackets are used to indicate a subset of a DataFrame, and the inner square brackets to create a list."
      ]
    },
    {
      "cell_type": "code",
      "execution_count": null,
      "metadata": {
        "id": "DzBlhlLZ_qzs"
      },
      "outputs": [],
      "source": [
        "countries[['NAME', 'POP_EST']] # double [[]]"
      ]
    },
    {
      "cell_type": "markdown",
      "metadata": {
        "id": "r6c0M1uW_xHA"
      },
      "source": [
        "### **Subset observations (rows)**\n",
        "Using `[]`, slicing or boolean indexing accesses the **rows**:"
      ]
    },
    {
      "cell_type": "markdown",
      "metadata": {
        "id": "829_POSG_yyw"
      },
      "source": [
        "### **Slicing**"
      ]
    },
    {
      "cell_type": "code",
      "execution_count": null,
      "metadata": {
        "id": "8_hYr9cx_1jD"
      },
      "outputs": [],
      "source": [
        "countries[0:4]"
      ]
    },
    {
      "cell_type": "markdown",
      "metadata": {
        "id": "nBVp1LTz_8FX"
      },
      "source": [
        "### **Boolean indexing (filtering)**\n",
        "\n",
        "Often, you want to select rows based on a certain condition. This can be done with *'boolean indexing'* (like a WHERE clause in SQL).\n",
        "\n",
        "The indexer (or boolean mask) should be 1-dimensional and the same length as the thing being indexed."
      ]
    },
    {
      "cell_type": "code",
      "execution_count": null,
      "metadata": {
        "id": "c1itLCXsAAfr"
      },
      "outputs": [],
      "source": [
        "# taking the first 5 rows to illustrate\n",
        "df = countries.head()\n",
        "df"
      ]
    },
    {
      "cell_type": "code",
      "execution_count": null,
      "metadata": {
        "id": "hfiHKW78ABW6"
      },
      "outputs": [],
      "source": [
        "mask = df['POP_EST'] > 1_000_000\n",
        "mask"
      ]
    },
    {
      "cell_type": "markdown",
      "metadata": {
        "id": "NpVGdef-tZr_"
      },
      "source": [
        "The `mask` in the above cell returns boolean values (True and False). True for rows which have 'pop_est' greater than 1_000_000 and False for others. Using this mask, you can select rows of the dataframe with 'POP_EST' greater than 1,000,000 as shown below."
      ]
    },
    {
      "cell_type": "code",
      "execution_count": null,
      "metadata": {
        "id": "s2g78SOIAFNr"
      },
      "outputs": [],
      "source": [
        "df[mask]"
      ]
    },
    {
      "cell_type": "code",
      "execution_count": null,
      "metadata": {
        "id": "QsPz5kCOAHft"
      },
      "outputs": [],
      "source": [
        "# or in one go\n",
        "df[df['POP_EST'] > 1_000_000]"
      ]
    },
    {
      "cell_type": "markdown",
      "metadata": {
        "id": "vlzYou20AK7z"
      },
      "source": [
        "With the full dataset:"
      ]
    },
    {
      "cell_type": "code",
      "execution_count": null,
      "metadata": {
        "id": "bsxgzd2WANwf"
      },
      "outputs": [],
      "source": [
        "countries[countries['GDP_MD'] > 5_000_000]"
      ]
    },
    {
      "cell_type": "code",
      "execution_count": null,
      "metadata": {
        "id": "bziPJFClARm7"
      },
      "outputs": [],
      "source": [
        "countries[countries['CONTINENT'] == \"Oceania\"]"
      ]
    },
    {
      "cell_type": "markdown",
      "metadata": {
        "id": "YVXIFNGHvKaa"
      },
      "source": [
        "Two or more rows can also be selected using the `.isin()` method. For example, to select rows with thier index within the range of 2 to 10;"
      ]
    },
    {
      "cell_type": "code",
      "execution_count": null,
      "metadata": {
        "id": "ZpywJaF8vd9A"
      },
      "outputs": [],
      "source": [
        "countries[countries.index.isin(range(2,10))]"
      ]
    },
    {
      "cell_type": "markdown",
      "metadata": {
        "id": "X1NlQDz9v2SY"
      },
      "source": [
        "It is alos possible to select rows by labels or conditions using `.loc[]` and `.iloc[]` (\"location\" and \"integer location\"). `.loc[]` uses a label to point to a row, column or cell, whereas `.iloc[]` uses the numeric position."
      ]
    },
    {
      "cell_type": "code",
      "execution_count": null,
      "metadata": {
        "id": "tVpeyvFOwYIy"
      },
      "outputs": [],
      "source": [
        "countries.loc[1:5] # this selects the first 5 rows of the dataframe"
      ]
    },
    {
      "cell_type": "code",
      "execution_count": null,
      "metadata": {
        "id": "BpidVtoawiy5"
      },
      "outputs": [],
      "source": [
        "countries.iloc[1:5]"
      ]
    },
    {
      "cell_type": "markdown",
      "metadata": {
        "id": "xQITYieO0b-j"
      },
      "source": [
        "Good example of the use of `loc[]` and `iloc[]` is shown in the example below from Stack Overflow."
      ]
    },
    {
      "cell_type": "code",
      "execution_count": null,
      "metadata": {
        "id": "CrAFpl2Z0ZEr"
      },
      "outputs": [],
      "source": [
        "s = pd.Series(list(\"abcdef\"), index=[49, 48, 47, 0, 1, 2])"
      ]
    },
    {
      "cell_type": "code",
      "execution_count": null,
      "metadata": {
        "id": "upnJqogB00cB"
      },
      "outputs": [],
      "source": [
        "s.loc[0]    # value at index label 0"
      ]
    },
    {
      "cell_type": "code",
      "execution_count": null,
      "metadata": {
        "id": "rBd-Dbpc02is"
      },
      "outputs": [],
      "source": [
        "s.iloc[0]   # value at index location 0"
      ]
    },
    {
      "cell_type": "code",
      "execution_count": null,
      "metadata": {
        "id": "LLIg4fAd066O"
      },
      "outputs": [],
      "source": [
        "s.loc[0:1]  # rows at index labels between 0 and 1 (inclusive)"
      ]
    },
    {
      "cell_type": "code",
      "execution_count": null,
      "metadata": {
        "id": "6UGDHaG11GdQ"
      },
      "outputs": [],
      "source": [
        "s.iloc[0:1] # rows at index location between 0 and 1 (exclusive)"
      ]
    },
    {
      "cell_type": "markdown",
      "metadata": {
        "id": "I_b4fKNkAWSn"
      },
      "source": [
        "**An overview of the possible comparison operations:**\n",
        "\n",
        "Operator   |  Description\n",
        "------ | --------\n",
        "==       | Equal\n",
        "!=       | Not equal\n",
        "\\>       | Greater than\n",
        "\\>=       | Greater than or equal\n",
        "<       | Lesser than\n",
        "<=       | Lesser than or equal\n",
        "\n",
        "and to combine multiple conditions:\n",
        "\n",
        "Operator   |  Description\n",
        "------ | --------\n",
        "&       | And (`cond1 & cond2`)\n",
        "\\|       | Or (`cond1 \\| cond2`)"
      ]
    },
    {
      "cell_type": "markdown",
      "metadata": {
        "id": "OO7fmQC2GxDm"
      },
      "source": [
        "\n",
        "\n",
        "---\n",
        "\n"
      ]
    },
    {
      "cell_type": "markdown",
      "metadata": {
        "id": "EujivdBpA0mw"
      },
      "source": [
        "# **2. Exercises**"
      ]
    },
    {
      "cell_type": "markdown",
      "metadata": {
        "id": "-OJl2o3WA46Z"
      },
      "source": [
        "<div class=\"alert alert-success\">\n",
        "\n",
        "**EXERCISE 1**:\n",
        "\n",
        ">What is the population  of Canada?\n",
        "\n",
        "\n",
        "<details>\n",
        "  <summary>Hints</summary>\n",
        "\n",
        "* Create a Code cell below and start coding!\n",
        "* Use Boolean indexing by the country name and get the population estimate\n",
        "* countries[countries['NAME']== \"the countryname here\"]['POP_EST']\n",
        "\n",
        "NOTE:\n",
        "* Python is case sensitive\n",
        "* \" and ' can both be used\n",
        "\n",
        "</details>\n",
        "    \n",
        "</div>"
      ]
    },
    {
      "cell_type": "markdown",
      "metadata": {
        "id": "j3mmdA422le6"
      },
      "source": [
        "<div class=\"alert alert-success\">\n",
        "\n",
        "**EXERCISE 2**:\n",
        "\n",
        ">In which continent Trinidad and Tobago is located?\n",
        "\n",
        "\n",
        "<details>\n",
        "  <summary>Hints</summary>\n",
        "\n",
        "*  Use Boolean indexing by the country name and get the continent.\n",
        "* countries[countries['NAME'] == \"the countryname here\"]['CONTINENT']\n",
        "\n",
        "</details>\n",
        "    \n",
        "</div>"
      ]
    },
    {
      "cell_type": "markdown",
      "metadata": {
        "id": "DxhYcdu_arFJ"
      },
      "source": [
        "<div class=\"alert alert-success\">\n",
        "\n",
        "**EXERCISE 3**:\n",
        "\n",
        ">How many countries are in Europe?\n",
        "\n",
        "\n",
        "<details>\n",
        "  <summary>Hints</summary>\n",
        "\n",
        "*  Use Boolean indexing by the country continent  to filter the counries in Europe and get the length of the filtered dataframe.\n",
        "* Europ_countries = countries[countries['CONTINENT'] == 'the continent you want']\n",
        "* length = len(Europ_countries)\n",
        "* print results\n",
        "\n",
        "</details>\n",
        "    \n",
        "</div>"
      ]
    },
    {
      "cell_type": "markdown",
      "metadata": {
        "id": "BvOaBgfRbmmh"
      },
      "source": [
        "<div class=\"alert alert-success\">\n",
        "\n",
        "**EXERCISE 4**:\n",
        "\n",
        ">From the dataframe you got in exercise 3, compute the total population estimate of Europe.\n",
        "\n",
        "\n",
        "<details>\n",
        "  <summary>Hints</summary>\n",
        "\n",
        "*  Get the 'POP_EST' column from the Europe_countries dataframe and get the sum of the column.\n",
        "* popn_Europe = Europ_countries['POP_EST']\n",
        "* popn_Europe.sum()\n",
        "\n",
        "</details>\n",
        "    \n",
        "</div>"
      ]
    },
    {
      "cell_type": "markdown",
      "metadata": {
        "id": "OZ4vwYhRGyQ6"
      },
      "source": [
        "\n",
        "\n",
        "---\n",
        "\n"
      ]
    },
    {
      "cell_type": "markdown",
      "metadata": {
        "id": "LEVGrjfK3OM6"
      },
      "source": [
        "# **3. GeoPandas [(Introduction to geospatial vector data in Python)](https://github.com/jorisvandenbossche/DS-python-geospatial/blob/main/notebooks/02-introduction-geospatial-data.ipynb)**\n",
        "\n",
        "\n",
        "Geospatial data is often available from specific GIS file formats or data stores, like ESRI shapefiles, GeoJSON files, geopackage files, PostGIS (PostgreSQL) database, ...\n",
        "\n",
        "We can use the GeoPandas library to read many of those GIS file formats (relying on the `fiona` library under the hood, which is an interface to GDAL/OGR), using the `geopandas.read_file` function.\n",
        "\n",
        "For example, a shapefile with all the countries of the world (obtained from [Natural Earth](https://www.naturalearthdata.com/downloads/10m-cultural-vectors/10m-admin-0-countries/)) can be read as follows. File can be found in the [WaPORMOOC](https://github.com/wateraccounting/WaPORMOOC) data folder in github."
      ]
    },
    {
      "cell_type": "code",
      "execution_count": null,
      "metadata": {
        "id": "RgCek4rU7dpo"
      },
      "outputs": [],
      "source": [
        "import geopandas as gpd"
      ]
    },
    {
      "cell_type": "code",
      "execution_count": null,
      "metadata": {
        "id": "rSlr3sCHDYsL"
      },
      "outputs": [],
      "source": [
        "#To upload file.\n",
        "from google.colab import files\n",
        "uploaded = files.upload()"
      ]
    },
    {
      "cell_type": "code",
      "execution_count": null,
      "metadata": {
        "id": "eCgpB9LB7kF4"
      },
      "outputs": [],
      "source": [
        "countries = gpd.read_file(\"/content/ne_10m_admin_0_countries.zip\")\n",
        "countries"
      ]
    },
    {
      "cell_type": "code",
      "execution_count": null,
      "metadata": {
        "id": "2dP95DUD8Uxk"
      },
      "outputs": [],
      "source": [
        "countries.head()"
      ]
    },
    {
      "cell_type": "code",
      "execution_count": null,
      "metadata": {
        "id": "VFm5o3yc8Vbx"
      },
      "outputs": [],
      "source": [
        "countries.plot()"
      ]
    },
    {
      "cell_type": "markdown",
      "metadata": {
        "id": "BHyrfP_h8r55"
      },
      "source": [
        "## **What's a GeoDataFrame?**\n",
        "\n",
        "GeoPandas library is used to read in the geospatial data, and this returned a `GeoDataFrame`:\n",
        "\n",
        "A GeoDataFrame contains a tabular, geospatial dataset:\n",
        "\n",
        "* It has a **'geometry' column** that holds the geometry information (or features in GeoJSON).\n",
        "* The other columns are the **attributes** (or properties in GeoJSON) that describe each of the geometries\n",
        "\n",
        "Such a `GeoDataFrame` is just like a pandas `DataFrame`, but with some additional functionality for working with geospatial data:\n",
        "\n",
        "* A `.geometry` attribute that always returns the column with the geometry information (returning a GeoSeries). The column name itself does not necessarily need to be 'geometry', but it will always be accessible as the `.geometry` attribute.\n",
        "* It has some extra methods for working with spatial data (area, distance, buffer, intersection, ...)"
      ]
    },
    {
      "cell_type": "code",
      "execution_count": null,
      "metadata": {
        "id": "5LcgheZE8Xgy"
      },
      "outputs": [],
      "source": [
        "countries.geometry"
      ]
    },
    {
      "cell_type": "code",
      "execution_count": null,
      "metadata": {
        "id": "uvMX3qrx8_h8"
      },
      "outputs": [],
      "source": [
        "type(countries.geometry)"
      ]
    },
    {
      "cell_type": "code",
      "execution_count": null,
      "metadata": {
        "id": "GOUqS3js9Baq"
      },
      "outputs": [],
      "source": [
        "countries.geometry.area"
      ]
    },
    {
      "cell_type": "markdown",
      "metadata": {
        "id": "g1IM-zMW9F-c"
      },
      "source": [
        "**It's still a DataFrame**, so all the Pandas functionality can be used on the geospatial dataset, and to do data manipulations with the attributes and geometry information together.\n",
        "\n",
        "For example, average population number over all countries can be calculated (by accessing the 'POP_EST' column, and calling the `mean` method on it):"
      ]
    },
    {
      "cell_type": "code",
      "execution_count": null,
      "metadata": {
        "id": "amyci4fMAO8B"
      },
      "outputs": [],
      "source": [
        "countries['POP_EST'].mean()"
      ]
    },
    {
      "cell_type": "markdown",
      "metadata": {
        "id": "B3GeHOCMAOQM"
      },
      "source": [
        "Or, we can use boolean filtering to select a subset of the dataframe based on a condition:"
      ]
    },
    {
      "cell_type": "code",
      "execution_count": null,
      "metadata": {
        "id": "Uw1GaJEEAUu3"
      },
      "outputs": [],
      "source": [
        "africa = countries[countries['CONTINENT'] == 'Africa'] # Selecting the African continent"
      ]
    },
    {
      "cell_type": "code",
      "execution_count": null,
      "metadata": {
        "id": "OPtD-Dk4AW6h"
      },
      "outputs": [],
      "source": [
        "africa.plot() #plotting continent Africa"
      ]
    },
    {
      "cell_type": "markdown",
      "metadata": {
        "id": "ImjZfoQRAmmp"
      },
      "source": [
        "## **Additional information **\n",
        "\n",
        "> Add blockquote\n",
        "\n",
        "\n",
        "The official **[10 minutes to pandas](https://pandas.pydata.org/docs/user_guide/10min.html#min)** is a very good introduction for beginners.\n",
        "\n",
        "\n",
        "\n",
        "\n",
        "\n",
        "\n",
        "\n"
      ]
    }
  ],
  "metadata": {
    "colab": {
      "private_outputs": true,
      "provenance": []
    },
    "gpuClass": "standard",
    "kernelspec": {
      "display_name": "Python 3 (ipykernel)",
      "language": "python",
      "name": "python3"
    },
    "language_info": {
      "codemirror_mode": {
        "name": "ipython",
        "version": 3
      },
      "file_extension": ".py",
      "mimetype": "text/x-python",
      "name": "python",
      "nbconvert_exporter": "python",
      "pygments_lexer": "ipython3",
      "version": "3.9.7"
    }
  },
  "nbformat": 4,
  "nbformat_minor": 0
}
