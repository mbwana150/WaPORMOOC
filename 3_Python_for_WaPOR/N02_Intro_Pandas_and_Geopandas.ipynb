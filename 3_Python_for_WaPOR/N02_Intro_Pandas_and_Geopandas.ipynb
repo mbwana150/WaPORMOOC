{
  "cells": [
    {
      "cell_type": "markdown",
      "metadata": {
        "id": "_U_f3R6YKjgK",
        "tags": []
      },
      "source": [
        "#**Geospatial analyses using WaPOR data**\n",
        "#Topic 3 - Notebook 2: Introduction to Pandas and Geopandas\n",
        "This notebook a brief introduction to Python packages of Pandas and GeoPandas.\n",
        "\n",
        "The contents:\n",
        "1. Pandas\n",
        "2. Exercises\n",
        "3. GeoPandas\n"
      ]
    },
    {
      "cell_type": "markdown",
      "source": [
        "\n",
        "\n",
        "---\n",
        "\n"
      ],
      "metadata": {
        "id": "ptn-ANXhGE0d"
      }
    },
    {
      "cell_type": "markdown",
      "source": [
        "# **1. Pandas**"
      ],
      "metadata": {
        "id": "u2qwSlby6Bby"
      }
    },
    {
      "cell_type": "markdown",
      "metadata": {
        "id": "hQ-CAa7jKjgN"
      },
      "source": [
        "Pandas is a very important Python package for data analysis and visualization. It has become the default package for data manipulation exploratory data analysis data cleaning. Its ability to read and write many data formats makes it a versatile tool for data analysis.\n",
        "\n",
        "A huge amount of data is saved in different formats including comma separated values (CSV), text, spreadsheet and many more. These data are in the form of rows and columns. Pandas is a Python package for manipulating tabular data.\n",
        "\n",
        "Pandas can be used:\n",
        "*   Import datasets from CSV, databases, spreadsheets files, and more.\n",
        "*   Time series analysis\n",
        "*   Calculating summary statistics, correlation between columns and more.\n",
        "*   Visualize datasets.\n",
        "\n",
        "\n",
        "### Installing Pandas\n",
        "Pandas come with standard Python installation. But it can also be installed using ***`!pip install pandas`*** command.\n",
        "\n",
        "\n"
      ]
    },
    {
      "cell_type": "markdown",
      "metadata": {
        "id": "wYJravmkWWMk"
      },
      "source": [
        "## **Importing data in pandas**\n",
        "\n",
        "Before using pandas, you need to import the package. The following cell imports pandas. When importing pandas, the most common alias for pandas is pd."
      ]
    },
    {
      "cell_type": "code",
      "source": [
        "import pandas as pd"
      ],
      "metadata": {
        "id": "Q5SXR8FT5tvf"
      },
      "execution_count": null,
      "outputs": []
    },
    {
      "cell_type": "markdown",
      "source": [
        "Let's start with importing some actual data. we will read the countries which is shared in a folder wuch is accessible in URL."
      ],
      "metadata": {
        "id": "hQb7dCEIyblU"
      }
    },
    {
      "cell_type": "code",
      "source": [
        "countries = pd.read_csv(\"https://surfdrive.surf.nl/files/index.php/s/Wie88hfXHsOmM86/download?path=%2F&files=countries.csv\")\n",
        "\n",
        "countries"
      ],
      "metadata": {
        "id": "nYHuQbE-62ID"
      },
      "execution_count": null,
      "outputs": []
    },
    {
      "cell_type": "markdown",
      "source": [
        "The object created here (countries) is a **DataFrame**.\n",
        "A `DataFrame` is a 2-dimensional, **tabular data structure** comprised of rows and columns. It is similar to a spreadsheet, a database (SQL) table or the data.frame in R.\n",
        "\n",
        "A DataFrame can store data of different types (including characters, integers, floating point values, categorical data and more) in columns. In pandas, we can check the data types of the columns with the `dtypes` attribute:\n",
        "\n",
        "![](https://surfdrive.surf.nl/files/index.php/s/Wie88hfXHsOmM86/download?path=%2F&files=dataframe.png)"
      ],
      "metadata": {
        "id": "T7L2pAjw5B6Q"
      }
    },
    {
      "cell_type": "code",
      "source": [
        "type(countries)"
      ],
      "metadata": {
        "id": "7CV3UyHW5htN"
      },
      "execution_count": null,
      "outputs": []
    },
    {
      "cell_type": "code",
      "source": [
        "countries.dtypes"
      ],
      "metadata": {
        "id": "5kWWds2z7bvu"
      },
      "execution_count": null,
      "outputs": []
    },
    {
      "cell_type": "markdown",
      "source": [
        "### Each column in a `DataFrame` is a `Series`\n",
        "When selecting a single column of a pandas `DataFrame`, the result is a pandas `Series`, a 1-dimensional data structure.\n",
        "To select the column, use the column label in between square brackets `[]`."
      ],
      "metadata": {
        "id": "_F57JUMB7nI3"
      }
    },
    {
      "cell_type": "code",
      "source": [
        "countries['pop_est']"
      ],
      "metadata": {
        "id": "eyxhp7K5735C"
      },
      "execution_count": null,
      "outputs": []
    },
    {
      "cell_type": "code",
      "source": [
        "s = countries['pop_est']\n",
        "type(s)"
      ],
      "metadata": {
        "id": "UzUau0Vb8BrQ"
      },
      "execution_count": null,
      "outputs": []
    },
    {
      "cell_type": "markdown",
      "source": [
        "### Pandas objects have attributes and methods\n",
        "Pandas provides a lot of functionalities for the DataFrame and Series. The `.dtypes` shown above is an *attribute* of the DataFrame. In addition, there are also functions that can be called on a DataFrame or Series, i.e. *methods*. As methods are functions, do not forget to use parentheses `()` to call them.\n",
        "A few examples that can help exploring the data:"
      ],
      "metadata": {
        "id": "IybZmRyt74Vw"
      }
    },
    {
      "cell_type": "code",
      "source": [
        "countries.head() # Top 5 rows"
      ],
      "metadata": {
        "id": "QZmmumxS8OOT"
      },
      "execution_count": null,
      "outputs": []
    },
    {
      "cell_type": "code",
      "source": [
        "countries.tail() # Bottom 5 rows"
      ],
      "metadata": {
        "id": "FB6AJ35e8JDn"
      },
      "execution_count": null,
      "outputs": []
    },
    {
      "cell_type": "markdown",
      "source": [
        "The ``describe`` method computes summary statistics for each column:"
      ],
      "metadata": {
        "id": "3cCtgZcU7x2y"
      }
    },
    {
      "cell_type": "code",
      "source": [
        "countries['pop_est'].describe()"
      ],
      "metadata": {
        "id": "ZhKGczdu8U1W"
      },
      "execution_count": null,
      "outputs": []
    },
    {
      "cell_type": "markdown",
      "source": [
        "**Sort**ing your data **by** a specific column is another important first-check:"
      ],
      "metadata": {
        "id": "qS8wd0Tq8dm2"
      }
    },
    {
      "cell_type": "code",
      "source": [
        "countries.sort_values(by='pop_est', ascending=False)"
      ],
      "metadata": {
        "id": "3Jy9OF_Z8cdG"
      },
      "execution_count": null,
      "outputs": []
    },
    {
      "cell_type": "markdown",
      "source": [
        "## **Basic operations on Series and DataFrames**\n",
        "\n"
      ],
      "metadata": {
        "id": "_k1mdU3R9Y_K"
      }
    },
    {
      "cell_type": "markdown",
      "source": [
        "### **Elementwise-operations**\n",
        "\n",
        "The typical arithmetic (+, -, \\*, /) and comparison (==, >, <, ...) operations work *element-wise*.\n",
        "\n",
        "With as scalar:"
      ],
      "metadata": {
        "id": "LIMAHgb2-a61"
      }
    },
    {
      "cell_type": "code",
      "source": [
        "population = countries['pop_est'].head()\n",
        "population"
      ],
      "metadata": {
        "id": "muoiEJg_-dFQ"
      },
      "execution_count": null,
      "outputs": []
    },
    {
      "cell_type": "code",
      "source": [
        "population / 1000"
      ],
      "metadata": {
        "id": "PF_XnZY2-h_F"
      },
      "execution_count": null,
      "outputs": []
    },
    {
      "cell_type": "code",
      "source": [
        "population > 1_000_000"
      ],
      "metadata": {
        "id": "q0hJEB86-kji"
      },
      "execution_count": null,
      "outputs": []
    },
    {
      "cell_type": "markdown",
      "source": [
        "With two Series objects:"
      ],
      "metadata": {
        "id": "KsaO-EQL-sDC"
      }
    },
    {
      "cell_type": "code",
      "source": [
        "countries['gdp_md_est'] / countries['pop_est']"
      ],
      "metadata": {
        "id": "rQ8qUAnH-kba"
      },
      "execution_count": null,
      "outputs": []
    },
    {
      "cell_type": "markdown",
      "source": [
        "### **Aggregations (reductions)**\n",
        "\n",
        "Pandas provides a large set of **summary** functions that operate on different kinds of pandas objects (DataFrames, Series, Index) and produce a single value. When applied to a DataFrame, the result is returned as a pandas Series (one value for each column).\n",
        "\n",
        "For example, the average population number is computes as follows:"
      ],
      "metadata": {
        "id": "u_xSzq06-z_3"
      }
    },
    {
      "cell_type": "code",
      "source": [
        "population.mean()"
      ],
      "metadata": {
        "id": "oRxOl9KS-2XJ"
      },
      "execution_count": null,
      "outputs": []
    },
    {
      "cell_type": "markdown",
      "source": [
        "The maximum GDP:"
      ],
      "metadata": {
        "id": "mQ8Qggvd-9B3"
      }
    },
    {
      "cell_type": "code",
      "source": [
        "countries['gdp_md_est'].max()"
      ],
      "metadata": {
        "id": "rj2DJO62--Y0"
      },
      "execution_count": null,
      "outputs": []
    },
    {
      "cell_type": "markdown",
      "source": [
        "For dataframes, only the numeric columns are included in the result:"
      ],
      "metadata": {
        "id": "b9Q5BISc_BZd"
      }
    },
    {
      "cell_type": "code",
      "source": [
        "countries.median(numeric_only=True)"
      ],
      "metadata": {
        "id": "8lJMxIeD_Eh2"
      },
      "execution_count": null,
      "outputs": []
    },
    {
      "cell_type": "markdown",
      "source": [
        "### **Adding new columns**\n",
        "\n",
        "We can add a new column to a DataFrame with similar syntax as selecting a column: create a new column by assigning the output to the DataFrame with a new column name in between the `[]`.\n",
        "\n",
        "For example, to add the GDP per capita calculated above, we can do:"
      ],
      "metadata": {
        "id": "S8dIJ_4g_KF_"
      }
    },
    {
      "cell_type": "code",
      "source": [
        "countries['gdp_capita'] = countries['gdp_md_est'] / countries['pop_est']"
      ],
      "metadata": {
        "id": "roNoaAj7_LeJ"
      },
      "execution_count": null,
      "outputs": []
    },
    {
      "cell_type": "code",
      "source": [
        "countries.head()"
      ],
      "metadata": {
        "id": "a-ninhzb_NbD"
      },
      "execution_count": null,
      "outputs": []
    },
    {
      "cell_type": "markdown",
      "source": [
        "## **Indexing: selecting a subset of the dataframe**\n",
        "\n",
        "The pandas package offers several ways to subset, filter, and isolate data in your DataFrames.\n",
        "\n",
        "### **Subset variables (columns)**\n",
        "\n",
        "You can select a single column using a square bracket [ ] with a column name in it. The output is a pandas Series object. A pandas Series is a one-dimensional array containing data of any type, including integer, float, string, boolean, python objects, etc.\n",
        "\n",
        "Selecting a **single column**:"
      ],
      "metadata": {
        "id": "-kNG0g4O_bdx"
      }
    },
    {
      "cell_type": "code",
      "source": [
        "countries['pop_est']"
      ],
      "metadata": {
        "id": "igKm_X22_c0W"
      },
      "execution_count": null,
      "outputs": []
    },
    {
      "cell_type": "markdown",
      "source": [
        "Remember that the same syntax can also be used to *add* a new columns: `df['new'] = ...`.\n",
        "\n",
        "We can also select **multiple columns** by passing a list of column names into `[]`: Here, square brackets are used in two different ways. The outer square brackets are used to indicate a subset of a DataFrame, and the inner square brackets to create a list."
      ],
      "metadata": {
        "id": "LEA-ArwS_nxi"
      }
    },
    {
      "cell_type": "code",
      "source": [
        "countries[['name', 'pop_est']] # double [[]]"
      ],
      "metadata": {
        "id": "DzBlhlLZ_qzs"
      },
      "execution_count": null,
      "outputs": []
    },
    {
      "cell_type": "markdown",
      "source": [
        "### **Subset observations (rows)**\n",
        "Using `[]`, slicing or boolean indexing accesses the **rows**:"
      ],
      "metadata": {
        "id": "r6c0M1uW_xHA"
      }
    },
    {
      "cell_type": "markdown",
      "source": [
        "### **Slicing**"
      ],
      "metadata": {
        "id": "829_POSG_yyw"
      }
    },
    {
      "cell_type": "code",
      "source": [
        "countries[0:4]"
      ],
      "metadata": {
        "id": "8_hYr9cx_1jD"
      },
      "execution_count": null,
      "outputs": []
    },
    {
      "cell_type": "markdown",
      "source": [
        "### **Boolean indexing (filtering)**\n",
        "\n",
        "Often, you want to select rows based on a certain condition. This can be done with *'boolean indexing'* (like a WHERE clause in SQL).\n",
        "\n",
        "The indexer (or boolean mask) should be 1-dimensional and the same length as the thing being indexed."
      ],
      "metadata": {
        "id": "nBVp1LTz_8FX"
      }
    },
    {
      "cell_type": "code",
      "source": [
        "# taking the first 5 rows to illustrate\n",
        "df = countries.head()\n",
        "df"
      ],
      "metadata": {
        "id": "c1itLCXsAAfr"
      },
      "execution_count": null,
      "outputs": []
    },
    {
      "cell_type": "code",
      "source": [
        "mask = df['pop_est'] > 1_000_000\n",
        "mask"
      ],
      "metadata": {
        "id": "hfiHKW78ABW6"
      },
      "execution_count": null,
      "outputs": []
    },
    {
      "cell_type": "markdown",
      "source": [
        "The `mask` in the above cell returns boolean values (True and False). True for rows which have 'pop_est' greater than 1_000_000 and False for others. Using this mask, you can select rows of the dataframe with 'pop_est' greater than 1,000,000 as shown below."
      ],
      "metadata": {
        "id": "NpVGdef-tZr_"
      }
    },
    {
      "cell_type": "code",
      "source": [
        "df[mask]"
      ],
      "metadata": {
        "id": "s2g78SOIAFNr"
      },
      "execution_count": null,
      "outputs": []
    },
    {
      "cell_type": "code",
      "source": [
        "# or in one go\n",
        "df[df['pop_est'] > 1_000_000]"
      ],
      "metadata": {
        "id": "QsPz5kCOAHft"
      },
      "execution_count": null,
      "outputs": []
    },
    {
      "cell_type": "markdown",
      "source": [
        "With the full dataset:"
      ],
      "metadata": {
        "id": "vlzYou20AK7z"
      }
    },
    {
      "cell_type": "code",
      "source": [
        "countries[countries['gdp_md_est'] > 5_000_000]"
      ],
      "metadata": {
        "id": "bsxgzd2WANwf"
      },
      "execution_count": null,
      "outputs": []
    },
    {
      "cell_type": "code",
      "source": [
        "countries[countries['continent'] == \"Oceania\"]"
      ],
      "metadata": {
        "id": "bziPJFClARm7"
      },
      "execution_count": null,
      "outputs": []
    },
    {
      "cell_type": "markdown",
      "source": [
        "Two or more rows can also be selected using the `.isin()` method. For example, to select rows with thier index within the range of 2 to 10;"
      ],
      "metadata": {
        "id": "YVXIFNGHvKaa"
      }
    },
    {
      "cell_type": "code",
      "source": [
        "countries[countries.index.isin(range(2,10))]"
      ],
      "metadata": {
        "id": "ZpywJaF8vd9A"
      },
      "execution_count": null,
      "outputs": []
    },
    {
      "cell_type": "markdown",
      "source": [
        "It is alos possible to select rows by labels or conditions using `.loc[]` and `.iloc[]` (\"location\" and \"integer location\"). `.loc[]` uses a label to point to a row, column or cell, whereas `.iloc[]` uses the numeric position."
      ],
      "metadata": {
        "id": "X1NlQDz9v2SY"
      }
    },
    {
      "cell_type": "code",
      "source": [
        "countries.loc[1:5] # this selects the first 5 rows of the dataframe"
      ],
      "metadata": {
        "id": "tVpeyvFOwYIy"
      },
      "execution_count": null,
      "outputs": []
    },
    {
      "cell_type": "code",
      "source": [
        "countries.iloc[1:5]"
      ],
      "metadata": {
        "id": "BpidVtoawiy5"
      },
      "execution_count": null,
      "outputs": []
    },
    {
      "cell_type": "markdown",
      "source": [
        "Good example of the use of `loc[]` and `iloc[]` is shown in the example below from Stakoverflow."
      ],
      "metadata": {
        "id": "xQITYieO0b-j"
      }
    },
    {
      "cell_type": "code",
      "source": [
        "s = pd.Series(list(\"abcdef\"), index=[49, 48, 47, 0, 1, 2])"
      ],
      "metadata": {
        "id": "CrAFpl2Z0ZEr"
      },
      "execution_count": null,
      "outputs": []
    },
    {
      "cell_type": "code",
      "source": [
        "s.loc[0]    # value at index label 0"
      ],
      "metadata": {
        "id": "upnJqogB00cB"
      },
      "execution_count": null,
      "outputs": []
    },
    {
      "cell_type": "code",
      "source": [
        "s.iloc[0]   # value at index location 0"
      ],
      "metadata": {
        "id": "rBd-Dbpc02is"
      },
      "execution_count": null,
      "outputs": []
    },
    {
      "cell_type": "code",
      "source": [
        "s.loc[0:1]  # rows at index labels between 0 and 1 (inclusive)"
      ],
      "metadata": {
        "id": "LLIg4fAd066O"
      },
      "execution_count": null,
      "outputs": []
    },
    {
      "cell_type": "code",
      "source": [
        "s.iloc[0:1] # rows at index location between 0 and 1 (exclusive)"
      ],
      "metadata": {
        "id": "6UGDHaG11GdQ"
      },
      "execution_count": null,
      "outputs": []
    },
    {
      "cell_type": "markdown",
      "source": [
        "**An overview of the possible comparison operations:**\n",
        "\n",
        "Operator   |  Description\n",
        "------ | --------\n",
        "==       | Equal\n",
        "!=       | Not equal\n",
        "\\>       | Greater than\n",
        "\\>=       | Greater than or equal\n",
        "<       | Lesser than\n",
        "<=       | Lesser than or equal\n",
        "\n",
        "and to combine multiple conditions:\n",
        "\n",
        "Operator   |  Description\n",
        "------ | --------\n",
        "&       | And (`cond1 & cond2`)\n",
        "\\|       | Or (`cond1 \\| cond2`)"
      ],
      "metadata": {
        "id": "I_b4fKNkAWSn"
      }
    },
    {
      "cell_type": "markdown",
      "source": [
        "\n",
        "\n",
        "---\n",
        "\n"
      ],
      "metadata": {
        "id": "OO7fmQC2GxDm"
      }
    },
    {
      "cell_type": "markdown",
      "source": [
        "# **2. Excercises**"
      ],
      "metadata": {
        "id": "EujivdBpA0mw"
      }
    },
    {
      "cell_type": "markdown",
      "source": [
        "<div class=\"alert alert-success\">\n",
        "\n",
        "**EXERCISE 1**:\n",
        "\n",
        ">What is the population  of Canada from the countries dataframe?\n",
        "\n",
        "\n",
        "<details>\n",
        "  <summary>Hints</summary>\n",
        "\n",
        "*  Use Boolean indexing by the country name and get the population estimate\n",
        "* countries[countries['name']== `the countryname here`]['pop_est']\n",
        "\n",
        "</details>\n",
        "    \n",
        "</div>"
      ],
      "metadata": {
        "id": "-OJl2o3WA46Z"
      }
    },
    {
      "cell_type": "markdown",
      "source": [
        "<div class=\"alert alert-success\">\n",
        "\n",
        "**EXERCISE 2**:\n",
        "\n",
        ">In which continent Trinidad and Tobago is located?\n",
        "\n",
        "\n",
        "<details>\n",
        "  <summary>Hints</summary>\n",
        "\n",
        "*  Use Boolean indexing by the country name and get the continent.\n",
        "* countries[countries['name'] == `the countryname here`]['continent']\n",
        "\n",
        "</details>\n",
        "    \n",
        "</div>"
      ],
      "metadata": {
        "id": "j3mmdA422le6"
      }
    },
    {
      "cell_type": "markdown",
      "source": [
        "<div class=\"alert alert-success\">\n",
        "\n",
        "**EXERCISE 3**:\n",
        "\n",
        ">From the countries dataframe, how many countries are in Europe?\n",
        "\n",
        "\n",
        "<details>\n",
        "  <summary>Hints</summary>\n",
        "\n",
        "*  Use Boolean indexing by the country continent  to filter the counries in Europe and get the length of the filtered dataframe.\n",
        "* Europ_countries = countries[countries['continent'] == the continent you want]\n",
        "* length = len(Europ_countries).\n",
        "\n",
        "</details>\n",
        "    \n",
        "</div>"
      ],
      "metadata": {
        "id": "DxhYcdu_arFJ"
      }
    },
    {
      "cell_type": "markdown",
      "source": [
        "<div class=\"alert alert-success\">\n",
        "\n",
        "**EXERCISE 4**:\n",
        "\n",
        ">From the dataframe you got in exercise 3, compute the total population estimate of Europe.\n",
        "\n",
        "\n",
        "<details>\n",
        "  <summary>Hints</summary>\n",
        "\n",
        "*  Get the 'pop_est' column from the Europe_countries dataframe and get the sume of the column.\n",
        "* popn_Europe = europ_countries['pop_est']\n",
        "* popn_Europe.sum()\n",
        "\n",
        "</details>\n",
        "    \n",
        "</div>"
      ],
      "metadata": {
        "id": "BvOaBgfRbmmh"
      }
    },
    {
      "cell_type": "markdown",
      "source": [
        "\n",
        "\n",
        "---\n",
        "\n"
      ],
      "metadata": {
        "id": "OZ4vwYhRGyQ6"
      }
    },
    {
      "cell_type": "markdown",
      "source": [
        "# **3. GeoPandas**\n",
        "\n",
        "\n",
        "Geospatial data is often available from specific GIS file formats or data stores, like ESRI shapefiles, GeoJSON files, geopackage files, PostGIS (PostgreSQL) database, ...\n",
        "\n",
        "We can use the GeoPandas library to read many of those GIS file formats (relying on the `fiona` library under the hood, which is an interface to GDAL/OGR), using the `geopandas.read_file` function.\n",
        "\n",
        "For example, a shapefile with all the countries of the world can be read as follows;"
      ],
      "metadata": {
        "id": "LEVGrjfK3OM6"
      }
    },
    {
      "cell_type": "code",
      "source": [
        "import geopandas as gpd"
      ],
      "metadata": {
        "id": "RgCek4rU7dpo"
      },
      "execution_count": null,
      "outputs": []
    },
    {
      "cell_type": "code",
      "source": [
        "countries = gpd.read_file(\"https://surfdrive.surf.nl/files/index.php/s/Wie88hfXHsOmM86/download?path=%2F&files=ne_110m_admin_0_countries.zip\")\n",
        "countries"
      ],
      "metadata": {
        "id": "eCgpB9LB7kF4"
      },
      "execution_count": null,
      "outputs": []
    },
    {
      "cell_type": "code",
      "source": [
        "countries.head()"
      ],
      "metadata": {
        "id": "2dP95DUD8Uxk"
      },
      "execution_count": null,
      "outputs": []
    },
    {
      "cell_type": "code",
      "source": [
        "countries.plot()"
      ],
      "metadata": {
        "id": "VFm5o3yc8Vbx"
      },
      "execution_count": null,
      "outputs": []
    },
    {
      "cell_type": "markdown",
      "source": [
        "## **What's a GeoDataFrame?**\n",
        "\n",
        "GeoPandas library is used to read in the geospatial data, and this returned a `GeoDataFrame`:\n",
        "\n",
        "A GeoDataFrame contains a tabular, geospatial dataset:\n",
        "\n",
        "* It has a **'geometry' column** that holds the geometry information (or features in GeoJSON).\n",
        "* The other columns are the **attributes** (or properties in GeoJSON) that describe each of the geometries\n",
        "\n",
        "Such a `GeoDataFrame` is just like a pandas `DataFrame`, but with some additional functionality for working with geospatial data:\n",
        "\n",
        "* A `.geometry` attribute that always returns the column with the geometry information (returning a GeoSeries). The column name itself does not necessarily need to be 'geometry', but it will always be accessible as the `.geometry` attribute.\n",
        "* It has some extra methods for working with spatial data (area, distance, buffer, intersection, ...), which we will learn in later notebooks"
      ],
      "metadata": {
        "id": "BHyrfP_h8r55"
      }
    },
    {
      "cell_type": "code",
      "source": [
        "countries.geometry"
      ],
      "metadata": {
        "id": "5LcgheZE8Xgy"
      },
      "execution_count": null,
      "outputs": []
    },
    {
      "cell_type": "code",
      "source": [
        "type(countries.geometry)"
      ],
      "metadata": {
        "id": "uvMX3qrx8_h8"
      },
      "execution_count": null,
      "outputs": []
    },
    {
      "cell_type": "code",
      "source": [
        "countries.geometry.area"
      ],
      "metadata": {
        "id": "GOUqS3js9Baq"
      },
      "execution_count": null,
      "outputs": []
    },
    {
      "cell_type": "markdown",
      "source": [
        "**It's still a DataFrame**, so all the Pandas functionality can be used on the geospatial dataset, and to do data manipulations with the attributes and geometry information together.\n",
        "\n",
        "For example, average population number over all countries can be calculated (by accessing the 'pop_est' column, and calling the `mean` method on it):"
      ],
      "metadata": {
        "id": "g1IM-zMW9F-c"
      }
    },
    {
      "cell_type": "code",
      "source": [
        "countries['pop_est'].mean()"
      ],
      "metadata": {
        "id": "amyci4fMAO8B"
      },
      "execution_count": null,
      "outputs": []
    },
    {
      "cell_type": "markdown",
      "source": [
        "Or, we can use boolean filtering to select a subset of the dataframe based on a condition:"
      ],
      "metadata": {
        "id": "B3GeHOCMAOQM"
      }
    },
    {
      "cell_type": "code",
      "source": [
        "africa = countries[countries['continent'] == 'Africa'] # Selecting the African continent"
      ],
      "metadata": {
        "id": "Uw1GaJEEAUu3"
      },
      "execution_count": null,
      "outputs": []
    },
    {
      "cell_type": "code",
      "source": [
        "africa.plot() #plotting continent Africa"
      ],
      "metadata": {
        "id": "OPtD-Dk4AW6h"
      },
      "execution_count": null,
      "outputs": []
    },
    {
      "cell_type": "markdown",
      "source": [
        "## **References**\n",
        "\n",
        "\n",
        "1.   This notebook is compiled from notebooks from [DS-python-geospatial](https://github.com/jorisvandenbossche/DS-python-geospatial).\n",
        "2.   The offical **[10 minutes to pandas](https://pandas.pydata.org/docs/user_guide/10min.html#min)** is a very good introduction to beginner.\n",
        "\n",
        "\n",
        "\n",
        "\n",
        "\n",
        "\n",
        "\n"
      ],
      "metadata": {
        "id": "ImjZfoQRAmmp"
      }
    }
  ],
  "metadata": {
    "colab": {
      "provenance": [],
      "private_outputs": true
    },
    "kernelspec": {
      "display_name": "Python 3 (ipykernel)",
      "language": "python",
      "name": "python3"
    },
    "language_info": {
      "codemirror_mode": {
        "name": "ipython",
        "version": 3
      },
      "file_extension": ".py",
      "mimetype": "text/x-python",
      "name": "python",
      "nbconvert_exporter": "python",
      "pygments_lexer": "ipython3",
      "version": "3.9.7"
    },
    "gpuClass": "standard"
  },
  "nbformat": 4,
  "nbformat_minor": 0
}