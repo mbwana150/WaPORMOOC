{
  "nbformat": 4,
  "nbformat_minor": 0,
  "metadata": {
    "colab": {
      "provenance": []
    },
    "kernelspec": {
      "name": "python3",
      "display_name": "Python 3"
    },
    "language_info": {
      "name": "python"
    }
  },
  "cells": [
    {
      "cell_type": "markdown",
      "source": [
        "#**Geospatial analyses using WaPOR data**\n",
        "#Topic 3 - Notebook 1: Download WaPOR version 3 Data.\n",
        "In this notebook we will use the wapordl package to download WaPOR v3 data and download files to local computer. For details of how to use download WaPOR v3 data, refer to the [OCW on WaPOR Introduction](https://ocw.un-ihe.org/course/view.php?id=263&section=4#tabs-tree-start).\n",
        "\n",
        "   \n",
        "The steps are:\n",
        "0. Install and load necessary packages\n",
        "1. Upload a geojson file to define the boundary of area of interest\n",
        "2. Use the wapordl package to download raster files for each variable\n",
        "3. Zip the rasters files and download them to local folder\n"
      ],
      "metadata": {
        "id": "GaiJb9WBsgBc"
      }
    },
    {
      "cell_type": "markdown",
      "source": [
        "\n",
        "\n",
        "---\n",
        "\n"
      ],
      "metadata": {
        "id": "E1Q79xi9IqgQ"
      }
    },
    {
      "cell_type": "markdown",
      "source": [
        "## **Step 0 - Install and load necessary packages**"
      ],
      "metadata": {
        "id": "uirLoQBqA-Hs"
      }
    },
    {
      "cell_type": "code",
      "source": [
        "%%capture\n",
        "!pip install --upgrade wapordl --quiet"
      ],
      "metadata": {
        "id": "3-CeI7rls2_4"
      },
      "execution_count": null,
      "outputs": []
    },
    {
      "cell_type": "markdown",
      "source": [
        "#### import required packages and download data"
      ],
      "metadata": {
        "id": "5ZGHVNmRs6Bs"
      }
    },
    {
      "cell_type": "code",
      "source": [
        "# from osgeo import gdal\n",
        "import glob\n",
        "import os\n",
        "from wapordl import wapor_map\n"
      ],
      "metadata": {
        "id": "T3EBB-5f7mcP"
      },
      "execution_count": null,
      "outputs": []
    },
    {
      "cell_type": "markdown",
      "source": [
        "\n",
        "\n",
        "---\n",
        "\n"
      ],
      "metadata": {
        "id": "llH9UoaqIsAN"
      }
    },
    {
      "cell_type": "markdown",
      "source": [
        "## **Step 1 - Upload a geojson file to define the boundary of area of interest**\n",
        "\n"
      ],
      "metadata": {
        "id": "rtlfEcFHBTUy"
      }
    },
    {
      "cell_type": "code",
      "source": [
        "#To upload file.\n",
        "from google.colab import files\n",
        "uploaded = files.upload()"
      ],
      "metadata": {
        "id": "DI1-Uc7JQETk"
      },
      "execution_count": null,
      "outputs": []
    },
    {
      "cell_type": "markdown",
      "source": [
        "Area of interest can be defined either by providing a geojson file or by bounding box (coordinates of the extent of the area of interest). The bounding box should be defined in the following board. [xmin, ymin, xmax, ymax]"
      ],
      "metadata": {
        "id": "XPNh8UgrBt_A"
      }
    },
    {
      "cell_type": "markdown",
      "source": [
        "\n",
        "\n",
        "---\n",
        "\n"
      ],
      "metadata": {
        "id": "SAHKRORqItft"
      }
    },
    {
      "cell_type": "markdown",
      "source": [
        "## **Step 2 - Use the wapordl package to download raster files for each variable**\n",
        "\n",
        "To use the wapordl package to download WaPOR data, you need to define the area of interest (either in geojson file or bounding box), a folder where to save the downloaded files, the variables to download and the time period.\n",
        "\n",
        "The variables which can be downloaded include AETI (actual evapotranspiration and interception), T (transpiration), I (interception), E (evaporation), NPP (Net Primary Product), PCP (Precipitation), RET (Reference Evapotranspiration) and RSM (Relative Soil Moisture). The are 3 levels of WaPOR data (L1, L2 and L3) related to the resolution of the data and in terms of temporal resolution, Daily (E), Decadal (D), Monthly (M) and Annual (A).\n",
        "\n",
        "Refer to the **[WaPOR overview](https://www.fao.org/in-action/remote-sensing-for-water-productivity/wapor-data/en)** to read more about the WaPOR data, its spatial and temporal coverage and the contents of the database. For the WaPOR variables naming convention, see the image below.\n",
        "\n",
        "![](https://surfdrive.surf.nl/files/index.php/s/Wie88hfXHsOmM86/download?path=%2F&files=WaPOR_variables_naming_convention.PNG)"
      ],
      "metadata": {
        "id": "JTwt1Ng6CUaq"
      }
    },
    {
      "cell_type": "code",
      "source": [
        "# define region in bounding box\n",
        "# region = [39.17, 8.32, 39.37, 8.50] # [xmin, ymin, xmax, ymax]\n",
        "\n",
        "# define region using geojson file\n",
        "region = r\"/content/Wad_Helal_projected.geojson\"\n",
        "\n",
        "# define the variables to download\n",
        "variables = [\"L3-AETI-D\"] #, \"L3-T-D\",\"L3-NPP-D\"]\n",
        "period = [\"2022-10-01\", \"2023-04-30\"]\n",
        "overview = \"NONE\"\n",
        "\n",
        "for var in variables:\n",
        "\n",
        "  # Define a folder to save the downaloded rasters\n",
        "  folder = r\"/content/WaPOR_data\"+f\"/{var}\"\n",
        "  if not os.path.exists(folder):\n",
        "          os.makedirs(folder)\n",
        "\n",
        "  if('-E' in var):\n",
        "    unit = \"day\"\n",
        "  elif('-D' in var):\n",
        "    unit = \"dekad\"\n",
        "  elif('-M' in var):\n",
        "    unit = \"month\"\n",
        "  elif ('-A' in var):\n",
        "    unit = \"year\"\n",
        "  else:\n",
        "    unit = \"none\"\n",
        "\n",
        "  fps = wapor_map(region, var, period, folder, seperate_unscale = True, unit_conversion = unit)\n"
      ],
      "metadata": {
        "id": "Fhrwhd5JQCLT"
      },
      "execution_count": null,
      "outputs": []
    },
    {
      "cell_type": "markdown",
      "source": [
        "\n",
        "\n",
        "---\n",
        "\n"
      ],
      "metadata": {
        "id": "i2uG2PhMIvJ9"
      }
    },
    {
      "cell_type": "markdown",
      "source": [
        "## **Step 3 - Zip the raster files and download them to local folder**\n",
        "\n",
        "The raster files are downlaoded to the output folder. We can zip the contents of that folder and download the zipped file to our local computer by running the following cell."
      ],
      "metadata": {
        "id": "jF9sxQquGtoH"
      }
    },
    {
      "cell_type": "code",
      "source": [
        "%cd /content/WaPOR_data/\n",
        "!zip -r WaPOR_data.zip L3-AETI-D/\n",
        "from google.colab import files\n",
        "files.download('WaPOR_data.zip')\n"
      ],
      "metadata": {
        "id": "9isKZdEm9mUs"
      },
      "execution_count": null,
      "outputs": []
    },
    {
      "cell_type": "code",
      "source": [
        "# # if you want to delete a folder use the code belwo.\n",
        "# !rm -rf /content/output\n",
        "# !rm -rf /content/tifs\n",
        "# !rm -rf /content/data.zip"
      ],
      "metadata": {
        "id": "oEC1npPT7r_o"
      },
      "execution_count": null,
      "outputs": []
    }
  ]
}