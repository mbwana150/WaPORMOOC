{
 "cells": [
  {
   "cell_type": "markdown",
   "id": "b05e3946-5abf-47b0-9e0e-8c082fc140b6",
   "metadata": {},
   "source": [
    "# Anwsers"
   ]
  },
  {
   "cell_type": "markdown",
   "id": "335b941d-1259-481f-815c-d98b495f18f4",
   "metadata": {},
   "source": [
    "## 3.7"
   ]
  },
  {
   "cell_type": "code",
   "execution_count": 1,
   "id": "cd39334a-cb8e-4445-99c0-5ba08ce94044",
   "metadata": {},
   "outputs": [
    {
     "name": "stdout",
     "output_type": "stream",
     "text": [
      "Year 1: Estimated yield is 1050.0 kg\n",
      "Year 2: Estimated yield is 1102.5 kg\n",
      "Year 3: Estimated yield is 1157.625 kg\n",
      "Year 4: Estimated yield is 1215.5062500000001 kg\n",
      "Year 5: Estimated yield is 1148.6534062500002 kg\n",
      "Year 6: Estimated yield is 1206.0860765625002 kg\n",
      "Year 7: Estimated yield is 1266.3903803906253 kg\n",
      "Year 8: Estimated yield is 1329.7098994101566 kg\n",
      "Year 9: Estimated yield is 1396.1953943806645 kg\n",
      "Year 10: Estimated yield is 1319.404647689728 kg\n"
     ]
    }
   ],
   "source": [
    "# Initialize variables\n",
    "year = 0\n",
    "yield_kg = 1000\n",
    "\n",
    "# Loop for 10 years\n",
    "while year < 10:\n",
    "    # Increase yield by 5% each year\n",
    "    yield_kg *= 1.05\n",
    "\n",
    "    # Decrease yield by 10% every 5 years\n",
    "    if year % 5 == 4:\n",
    "        yield_kg *= 0.9\n",
    "\n",
    "    # Print the estimated yield for the current year\n",
    "    print(f\"Year {year+1}: Estimated yield is {yield_kg} kg\")\n",
    "\n",
    "    # Increment the year\n",
    "    year += 1"
   ]
  },
  {
   "cell_type": "markdown",
   "id": "73b44be9-920f-4b6a-8acf-f9fb7e12e4da",
   "metadata": {},
   "source": [
    "## 4.9"
   ]
  },
  {
   "cell_type": "code",
   "execution_count": 2,
   "id": "b9cb5ed9-1ff3-4955-8841-24c0338dea7e",
   "metadata": {},
   "outputs": [
    {
     "name": "stdout",
     "output_type": "stream",
     "text": [
      "Year 1: Estimated yield is 1050.0 kg\n",
      "Year 2: Estimated yield is 1102.5 kg\n",
      "Year 3: Estimated yield is 1157.625 kg\n",
      "Year 4: Estimated yield is 1215.5062500000001 kg\n",
      "Year 5: Estimated yield is 1148.6534062500002 kg\n",
      "Year 6: Estimated yield is 1206.0860765625002 kg\n",
      "Year 7: Estimated yield is 1266.3903803906253 kg\n",
      "Year 8: Estimated yield is 1329.7098994101566 kg\n",
      "Year 9: Estimated yield is 1396.1953943806645 kg\n",
      "Year 10: Estimated yield is 1319.404647689728 kg\n"
     ]
    }
   ],
   "source": [
    "def estimate_yield(years,initial_yield,increase,decrease):\n",
    "    # Initialize variables\n",
    "    year = 0\n",
    "    yield_kg = initial_yield\n",
    "\n",
    "    # Loop for the specified number of years\n",
    "    while year < years:\n",
    "        # Increase yield by 5% each year\n",
    "        yield_kg *= increase\n",
    "\n",
    "        # Decrease yield by 10% every 5 years\n",
    "        if year % 5 == 4:\n",
    "            yield_kg *= decrease\n",
    "\n",
    "        # Print the estimated yield for the current year\n",
    "        print(f\"Year {year+1}: Estimated yield is {yield_kg} kg\")\n",
    "\n",
    "        # Increment the year\n",
    "        year += 1\n",
    "\n",
    "# Call the function\n",
    "simulationtime = 10\n",
    "initialyield = 1000\n",
    "annual_yieldincrease = 1.05\n",
    "fiveyeardecrease = 0.9\n",
    "estimate_yield(simulationtime,initialyield,annual_yieldincrease,fiveyeardecrease)\n"
   ]
  },
  {
   "cell_type": "markdown",
   "id": "b933b4c7-a792-4fd2-abad-5b21fcc1195a",
   "metadata": {},
   "source": [
    "## 5.4"
   ]
  },
  {
   "cell_type": "code",
   "execution_count": 3,
   "id": "a43ae4ca-f66b-4413-a6b2-60a411a693b7",
   "metadata": {},
   "outputs": [],
   "source": [
    "crop_seasons = ('winter','summer','monsoon')\n",
    "livestock = ['sheep','goat','cows']\n",
    "crop_prices = {\n",
    "    'Wheat': 200,  # Price in dollars per ton\n",
    "    'Corn': 180,\n",
    "    'Rice': 210,\n",
    "    'Barley': 190\n",
    "}"
   ]
  },
  {
   "cell_type": "markdown",
   "id": "4b94ac9e-34c6-41a7-bf94-9291ac18aa1c",
   "metadata": {},
   "source": [
    "## 6.6"
   ]
  },
  {
   "cell_type": "code",
   "execution_count": 5,
   "id": "794ab606-fc04-4226-9642-7c478a848082",
   "metadata": {},
   "outputs": [
    {
     "name": "stdout",
     "output_type": "stream",
     "text": [
      "Wheat\n",
      "Corn\n",
      "Rice\n",
      "Barley\n"
     ]
    }
   ],
   "source": [
    "# Define a list with crop names\n",
    "crops = ['Wheat', 'Corn', 'Rice', 'Barley']\n",
    "\n",
    "# Use a for loop to print each crop name\n",
    "for crop in crops:\n",
    "    print(crop)\n"
   ]
  },
  {
   "cell_type": "markdown",
   "id": "040a516a-dedc-44bb-b327-e21a329fa838",
   "metadata": {},
   "source": [
    "## 9.2"
   ]
  },
  {
   "cell_type": "code",
   "execution_count": 6,
   "id": "2887113b-f1eb-4a29-b0a8-31baeb151d79",
   "metadata": {},
   "outputs": [
    {
     "name": "stdout",
     "output_type": "stream",
     "text": [
      "D:\\Exercises\\precipitation.csv\n"
     ]
    }
   ],
   "source": [
    "import os\n",
    "directory = 'D:\\\\Exercises'\n",
    "filename = 'precipitation.csv'\n",
    "full_path = os.path.join(directory, filename)\n",
    "print(full_path)"
   ]
  },
  {
   "cell_type": "code",
   "execution_count": null,
   "id": "022633c1-ff9c-43cc-996b-ce1f19ace2ce",
   "metadata": {},
   "outputs": [],
   "source": []
  }
 ],
 "metadata": {
  "kernelspec": {
   "display_name": "Python 3 (ipykernel)",
   "language": "python",
   "name": "python3"
  },
  "language_info": {
   "codemirror_mode": {
    "name": "ipython",
    "version": 3
   },
   "file_extension": ".py",
   "mimetype": "text/x-python",
   "name": "python",
   "nbconvert_exporter": "python",
   "pygments_lexer": "ipython3",
   "version": "3.12.2"
  }
 },
 "nbformat": 4,
 "nbformat_minor": 5
}
